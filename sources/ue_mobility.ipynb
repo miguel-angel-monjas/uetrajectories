{
 "cells": [
  {
   "cell_type": "markdown",
   "metadata": {},
   "source": [
    "# UE mobility prediction\n",
    "\n",
    "The UE connects via a DN to the closest application server. Next, it moves to the next edge site. To keep latency low after a gNB handover, the UE’s context should be relocated not only on the gNB, but also on the UPF and the application server.\n",
    "\n",
    "If the network knows in advance that the UE will move to the target edge site, then some parts of the relocation procedure can be done before the actual gNB handover. In this way, the overall procedure is shortened, and the handover can be performed more smoothly.\n",
    "\n",
    "\n",
    "<div>\n",
    "<img src=\"../image.png\" width=\"400\">\n",
    "</div>"
   ]
  },
  {
   "cell_type": "code",
   "execution_count": 1,
   "metadata": {},
   "outputs": [],
   "source": [
    "import warnings\n",
    "warnings.simplefilter(action='ignore', category=FutureWarning)\n",
    "\n",
    "import matplotlib.pyplot as plt\n",
    "import pandas as pd\n",
    "\n",
    "plt.rcParams[\"figure.figsize\"] = (10, 5)"
   ]
  },
  {
   "cell_type": "markdown",
   "metadata": {},
   "source": [
    "## Data analysis\n",
    "\n",
    "The dataset in `trajectories.json.gz` is made of events carrying the following features:\n",
    "* `currentEnb`: gNB the user has moved to \n",
    "* `eventId`: type of event\n",
    "* `imsi`: IMSI (user identifier) the event belongs to. \n",
    "* `timestamp`: minutes starting from 0 at day 1 in the dataset. The dataset contains data from about four days and a half \n",
    "* `timeSlot`: a 15-minute slot generated from timestamp. There should be 96 timeslots in a day. `timeSlot` is restarted every day. "
   ]
  },
  {
   "cell_type": "markdown",
   "metadata": {},
   "source": [
    "## Exploratory Data Analysis"
   ]
  },
  {
   "cell_type": "code",
   "execution_count": 2,
   "metadata": {},
   "outputs": [
    {
     "data": {
      "text/html": [
       "<div>\n",
       "<style scoped>\n",
       "    .dataframe tbody tr th:only-of-type {\n",
       "        vertical-align: middle;\n",
       "    }\n",
       "\n",
       "    .dataframe tbody tr th {\n",
       "        vertical-align: top;\n",
       "    }\n",
       "\n",
       "    .dataframe thead th {\n",
       "        text-align: right;\n",
       "    }\n",
       "</style>\n",
       "<table border=\"1\" class=\"dataframe\">\n",
       "  <thead>\n",
       "    <tr style=\"text-align: right;\">\n",
       "      <th></th>\n",
       "      <th>currentEnb</th>\n",
       "      <th>eventId</th>\n",
       "      <th>imsi</th>\n",
       "      <th>timeSlot</th>\n",
       "      <th>timestamp</th>\n",
       "    </tr>\n",
       "  </thead>\n",
       "  <tbody>\n",
       "    <tr>\n",
       "      <th>0</th>\n",
       "      <td>22</td>\n",
       "      <td>12</td>\n",
       "      <td>2778514794</td>\n",
       "      <td>0</td>\n",
       "      <td>0</td>\n",
       "    </tr>\n",
       "    <tr>\n",
       "      <th>1</th>\n",
       "      <td>16</td>\n",
       "      <td>12</td>\n",
       "      <td>2793518354</td>\n",
       "      <td>0</td>\n",
       "      <td>0</td>\n",
       "    </tr>\n",
       "    <tr>\n",
       "      <th>2</th>\n",
       "      <td>37</td>\n",
       "      <td>12</td>\n",
       "      <td>2793522274</td>\n",
       "      <td>0</td>\n",
       "      <td>0</td>\n",
       "    </tr>\n",
       "    <tr>\n",
       "      <th>3</th>\n",
       "      <td>15</td>\n",
       "      <td>12</td>\n",
       "      <td>2781330414</td>\n",
       "      <td>0</td>\n",
       "      <td>0</td>\n",
       "    </tr>\n",
       "    <tr>\n",
       "      <th>4</th>\n",
       "      <td>18</td>\n",
       "      <td>12</td>\n",
       "      <td>2793525404</td>\n",
       "      <td>0</td>\n",
       "      <td>0</td>\n",
       "    </tr>\n",
       "  </tbody>\n",
       "</table>\n",
       "</div>"
      ],
      "text/plain": [
       "   currentEnb  eventId        imsi  timeSlot  timestamp\n",
       "0          22       12  2778514794         0          0\n",
       "1          16       12  2793518354         0          0\n",
       "2          37       12  2793522274         0          0\n",
       "3          15       12  2781330414         0          0\n",
       "4          18       12  2793525404         0          0"
      ]
     },
     "execution_count": 2,
     "metadata": {},
     "output_type": "execute_result"
    }
   ],
   "source": [
    "df = pd.read_json('trajectories.json.gz', compression='gzip')\n",
    "df.head()"
   ]
  },
  {
   "cell_type": "code",
   "execution_count": 3,
   "metadata": {},
   "outputs": [
    {
     "name": "stdout",
     "output_type": "stream",
     "text": [
      "<class 'pandas.core.frame.DataFrame'>\n",
      "RangeIndex: 479154 entries, 0 to 479153\n",
      "Data columns (total 5 columns):\n",
      " #   Column      Non-Null Count   Dtype\n",
      "---  ------      --------------   -----\n",
      " 0   currentEnb  479154 non-null  int64\n",
      " 1   eventId     479154 non-null  int64\n",
      " 2   imsi        479154 non-null  int64\n",
      " 3   timeSlot    479154 non-null  int64\n",
      " 4   timestamp   479154 non-null  int64\n",
      "dtypes: int64(5)\n",
      "memory usage: 18.3 MB\n"
     ]
    }
   ],
   "source": [
    "df.info()"
   ]
  },
  {
   "cell_type": "code",
   "execution_count": 4,
   "metadata": {},
   "outputs": [
    {
     "data": {
      "text/plain": [
       "currentEnb      41\n",
       "eventId          1\n",
       "imsi          8687\n",
       "timeSlot        15\n",
       "timestamp     1036\n",
       "dtype: int64"
      ]
     },
     "execution_count": 4,
     "metadata": {},
     "output_type": "execute_result"
    }
   ],
   "source": [
    "df.nunique()"
   ]
  },
  {
   "cell_type": "code",
   "execution_count": 5,
   "metadata": {},
   "outputs": [
    {
     "data": {
      "text/html": [
       "<div>\n",
       "<style scoped>\n",
       "    .dataframe tbody tr th:only-of-type {\n",
       "        vertical-align: middle;\n",
       "    }\n",
       "\n",
       "    .dataframe tbody tr th {\n",
       "        vertical-align: top;\n",
       "    }\n",
       "\n",
       "    .dataframe thead th {\n",
       "        text-align: right;\n",
       "    }\n",
       "</style>\n",
       "<table border=\"1\" class=\"dataframe\">\n",
       "  <thead>\n",
       "    <tr style=\"text-align: right;\">\n",
       "      <th></th>\n",
       "      <th>currentEnb</th>\n",
       "      <th>eventId</th>\n",
       "      <th>imsi</th>\n",
       "      <th>timeSlot</th>\n",
       "      <th>timestamp</th>\n",
       "    </tr>\n",
       "  </thead>\n",
       "  <tbody>\n",
       "    <tr>\n",
       "      <th>5677</th>\n",
       "      <td>29</td>\n",
       "      <td>12</td>\n",
       "      <td>2785554734</td>\n",
       "      <td>0</td>\n",
       "      <td>0</td>\n",
       "    </tr>\n",
       "    <tr>\n",
       "      <th>10037</th>\n",
       "      <td>30</td>\n",
       "      <td>12</td>\n",
       "      <td>2785554734</td>\n",
       "      <td>0</td>\n",
       "      <td>2</td>\n",
       "    </tr>\n",
       "    <tr>\n",
       "      <th>30897</th>\n",
       "      <td>3</td>\n",
       "      <td>12</td>\n",
       "      <td>2785554734</td>\n",
       "      <td>1</td>\n",
       "      <td>20</td>\n",
       "    </tr>\n",
       "    <tr>\n",
       "      <th>39450</th>\n",
       "      <td>31</td>\n",
       "      <td>12</td>\n",
       "      <td>2785554734</td>\n",
       "      <td>1</td>\n",
       "      <td>29</td>\n",
       "    </tr>\n",
       "    <tr>\n",
       "      <th>40386</th>\n",
       "      <td>3</td>\n",
       "      <td>12</td>\n",
       "      <td>2785554734</td>\n",
       "      <td>2</td>\n",
       "      <td>30</td>\n",
       "    </tr>\n",
       "    <tr>\n",
       "      <th>...</th>\n",
       "      <td>...</td>\n",
       "      <td>...</td>\n",
       "      <td>...</td>\n",
       "      <td>...</td>\n",
       "      <td>...</td>\n",
       "    </tr>\n",
       "    <tr>\n",
       "      <th>479146</th>\n",
       "      <td>29</td>\n",
       "      <td>12</td>\n",
       "      <td>2785554734</td>\n",
       "      <td>54</td>\n",
       "      <td>6580</td>\n",
       "    </tr>\n",
       "    <tr>\n",
       "      <th>479149</th>\n",
       "      <td>30</td>\n",
       "      <td>12</td>\n",
       "      <td>2785554734</td>\n",
       "      <td>54</td>\n",
       "      <td>6581</td>\n",
       "    </tr>\n",
       "    <tr>\n",
       "      <th>479150</th>\n",
       "      <td>29</td>\n",
       "      <td>12</td>\n",
       "      <td>2785554734</td>\n",
       "      <td>54</td>\n",
       "      <td>6582</td>\n",
       "    </tr>\n",
       "    <tr>\n",
       "      <th>479151</th>\n",
       "      <td>30</td>\n",
       "      <td>12</td>\n",
       "      <td>2785554734</td>\n",
       "      <td>54</td>\n",
       "      <td>6583</td>\n",
       "    </tr>\n",
       "    <tr>\n",
       "      <th>479152</th>\n",
       "      <td>29</td>\n",
       "      <td>12</td>\n",
       "      <td>2785554734</td>\n",
       "      <td>54</td>\n",
       "      <td>6584</td>\n",
       "    </tr>\n",
       "  </tbody>\n",
       "</table>\n",
       "<p>137 rows × 5 columns</p>\n",
       "</div>"
      ],
      "text/plain": [
       "        currentEnb  eventId        imsi  timeSlot  timestamp\n",
       "5677            29       12  2785554734         0          0\n",
       "10037           30       12  2785554734         0          2\n",
       "30897            3       12  2785554734         1         20\n",
       "39450           31       12  2785554734         1         29\n",
       "40386            3       12  2785554734         2         30\n",
       "...            ...      ...         ...       ...        ...\n",
       "479146          29       12  2785554734        54       6580\n",
       "479149          30       12  2785554734        54       6581\n",
       "479150          29       12  2785554734        54       6582\n",
       "479151          30       12  2785554734        54       6583\n",
       "479152          29       12  2785554734        54       6584\n",
       "\n",
       "[137 rows x 5 columns]"
      ]
     },
     "execution_count": 5,
     "metadata": {},
     "output_type": "execute_result"
    }
   ],
   "source": [
    "df[df['imsi'] == 2785554734]"
   ]
  },
  {
   "cell_type": "code",
   "execution_count": 6,
   "metadata": {},
   "outputs": [
    {
     "data": {
      "text/plain": [
       "<AxesSubplot:>"
      ]
     },
     "execution_count": 6,
     "metadata": {},
     "output_type": "execute_result"
    },
    {
     "data": {
      "image/png": "[encoded data removed]",
      "text/plain": [
       "<Figure size 720x360 with 1 Axes>"
      ]
     },
     "metadata": {
      "needs_background": "light"
     },
     "output_type": "display_data"
    }
   ],
   "source": [
    "df['currentEnb'].value_counts().sort_index().plot(kind='bar')"
   ]
  },
  {
   "cell_type": "code",
   "execution_count": 7,
   "metadata": {},
   "outputs": [
    {
     "data": {
      "text/plain": [
       "<AxesSubplot:>"
      ]
     },
     "execution_count": 7,
     "metadata": {},
     "output_type": "execute_result"
    },
    {
     "data": {
      "image/png": "[encoded data removed]",
      "text/plain": [
       "<Figure size 720x360 with 1 Axes>"
      ]
     },
     "metadata": {
      "needs_background": "light"
     },
     "output_type": "display_data"
    }
   ],
   "source": [
    "df['timeSlot'].value_counts().sort_index().plot(kind='bar')"
   ]
  },
  {
   "cell_type": "code",
   "execution_count": 8,
   "metadata": {},
   "outputs": [
    {
     "data": {
      "text/plain": [
       "6587"
      ]
     },
     "execution_count": 8,
     "metadata": {},
     "output_type": "execute_result"
    }
   ],
   "source": [
    "df['timestamp'].max()"
   ]
  },
  {
   "cell_type": "code",
   "execution_count": 14,
   "metadata": {},
   "outputs": [
    {
     "data": {
      "text/plain": [
       "<AxesSubplot:>"
      ]
     },
     "execution_count": 14,
     "metadata": {},
     "output_type": "execute_result"
    },
    {
     "data": {
      "image/png": "[encoded data removed]",
      "text/plain": [
       "<Figure size 720x360 with 1 Axes>"
      ]
     },
     "metadata": {
      "needs_background": "light"
     },
     "output_type": "display_data"
    }
   ],
   "source": [
    "df['timestamp'].hist(bins=10)"
   ]
  },
  {
   "cell_type": "markdown",
   "metadata": {},
   "source": [
    "### Additional data sources"
   ]
  },
  {
   "cell_type": "markdown",
   "metadata": {},
   "source": [
    "For each gNodeB, `topology_neighbours.json` contains its closest neighbours."
   ]
  },
  {
   "cell_type": "code",
   "execution_count": 15,
   "metadata": {},
   "outputs": [
    {
     "data": {
      "text/html": [
       "<div>\n",
       "<style scoped>\n",
       "    .dataframe tbody tr th:only-of-type {\n",
       "        vertical-align: middle;\n",
       "    }\n",
       "\n",
       "    .dataframe tbody tr th {\n",
       "        vertical-align: top;\n",
       "    }\n",
       "\n",
       "    .dataframe thead th {\n",
       "        text-align: right;\n",
       "    }\n",
       "</style>\n",
       "<table border=\"1\" class=\"dataframe\">\n",
       "  <thead>\n",
       "    <tr style=\"text-align: right;\">\n",
       "      <th></th>\n",
       "      <th>gnodeB</th>\n",
       "      <th>neigh_1</th>\n",
       "      <th>neigh_2</th>\n",
       "      <th>neigh_3</th>\n",
       "      <th>neigh_4</th>\n",
       "    </tr>\n",
       "  </thead>\n",
       "  <tbody>\n",
       "    <tr>\n",
       "      <th>0</th>\n",
       "      <td>0</td>\n",
       "      <td>5</td>\n",
       "      <td>2</td>\n",
       "      <td>16</td>\n",
       "      <td>4</td>\n",
       "    </tr>\n",
       "    <tr>\n",
       "      <th>1</th>\n",
       "      <td>29</td>\n",
       "      <td>1</td>\n",
       "      <td>30</td>\n",
       "      <td>5</td>\n",
       "      <td>3</td>\n",
       "    </tr>\n",
       "    <tr>\n",
       "      <th>2</th>\n",
       "      <td>5</td>\n",
       "      <td>1</td>\n",
       "      <td>0</td>\n",
       "      <td>2</td>\n",
       "      <td>4</td>\n",
       "    </tr>\n",
       "    <tr>\n",
       "      <th>3</th>\n",
       "      <td>1</td>\n",
       "      <td>5</td>\n",
       "      <td>29</td>\n",
       "      <td>4</td>\n",
       "      <td>3</td>\n",
       "    </tr>\n",
       "    <tr>\n",
       "      <th>4</th>\n",
       "      <td>3</td>\n",
       "      <td>31</td>\n",
       "      <td>1</td>\n",
       "      <td>8</td>\n",
       "      <td>30</td>\n",
       "    </tr>\n",
       "  </tbody>\n",
       "</table>\n",
       "</div>"
      ],
      "text/plain": [
       "   gnodeB  neigh_1  neigh_2  neigh_3  neigh_4\n",
       "0       0        5        2       16        4\n",
       "1      29        1       30        5        3\n",
       "2       5        1        0        2        4\n",
       "3       1        5       29        4        3\n",
       "4       3       31        1        8       30"
      ]
     },
     "execution_count": 15,
     "metadata": {},
     "output_type": "execute_result"
    }
   ],
   "source": [
    "gnb_neigh = pd.read_json('topology_neighbours.json', orient='index')\n",
    "gnb_neigh.reset_index(inplace=True)\n",
    "gnb_neigh.columns = ['gnodeB', 'neigh_1', 'neigh_2', 'neigh_3', 'neigh_4']\n",
    "gnb_neigh.head()"
   ]
  },
  {
   "cell_type": "markdown",
   "metadata": {},
   "source": [
    "## Feature engineering\n",
    "\n",
    "First, we select the first day as train set."
   ]
  },
  {
   "cell_type": "code",
   "execution_count": 17,
   "metadata": {},
   "outputs": [],
   "source": [
    "day_1 = df.loc[(df['timestamp']>=0) & (df['timestamp']<1440)]\n",
    "day_2 = df.loc[(df['timestamp']>=1440) & (df['timestamp']<2880)]"
   ]
  },
  {
   "cell_type": "markdown",
   "metadata": {},
   "source": [
    "For each mobility event, we create a number of new features:\n",
    "* `stay_time`: time until the same user moves to another gNodeB (and thus a new event is received).\n",
    "* `transit_time`: time it took the user to move from the the previous gNodeB. For a same user that goes from gNodeB-a to gNodeB-b, `stay_time` in gNodeB-A is the same as `transit_time` in gNodeB-b\n",
    "* `transition_slot`: bucketed `transit_time` considering that any time greater than 60 minutes is assigned 100 minutes.\n",
    "* `time_of_day`: bucketed `timeSlot` (five periods of time in the day)."
   ]
  },
  {
   "cell_type": "code",
   "execution_count": 18,
   "metadata": {},
   "outputs": [],
   "source": [
    "grouped_df = day_1.set_index(['imsi', 'timestamp']).sort_index().reset_index()\n",
    "grouped_df['next_timestamp'] = grouped_df.groupby(['imsi'])['timestamp'].shift(-1)\n",
    "grouped_df['prev_timestamp'] = grouped_df.groupby(['imsi'])['timestamp'].shift(1)\n",
    "grouped_df['stay_time'] = grouped_df['next_timestamp'] - grouped_df['timestamp']\n",
    "grouped_df['transit_time'] = grouped_df['timestamp'] - grouped_df['prev_timestamp']"
   ]
  },
  {
   "cell_type": "code",
   "execution_count": 19,
   "metadata": {},
   "outputs": [
    {
     "data": {
      "text/plain": [
       "<AxesSubplot:>"
      ]
     },
     "execution_count": 19,
     "metadata": {},
     "output_type": "execute_result"
    },
    {
     "data": {
      "image/png": "[encoded data removed]",
      "text/plain": [
       "<Figure size 720x360 with 1 Axes>"
      ]
     },
     "metadata": {
      "needs_background": "light"
     },
     "output_type": "display_data"
    }
   ],
   "source": [
    "grouped_df['stay_time'].hist(bins=128)"
   ]
  },
  {
   "cell_type": "markdown",
   "metadata": {},
   "source": [
    "See the peak around 700 minutes, that could correspond to people remaining at work for such period of time."
   ]
  },
  {
   "cell_type": "code",
   "execution_count": 20,
   "metadata": {},
   "outputs": [
    {
     "data": {
      "text/plain": [
       "737.0"
      ]
     },
     "execution_count": 20,
     "metadata": {},
     "output_type": "execute_result"
    }
   ],
   "source": [
    "grouped_df['transit_time'].max()"
   ]
  },
  {
   "cell_type": "code",
   "execution_count": 21,
   "metadata": {},
   "outputs": [
    {
     "data": {
      "text/plain": [
       "1      25608\n",
       "5      17234\n",
       "15     43919\n",
       "30      4085\n",
       "60         0\n",
       "100     8634\n",
       "Name: transition_slot, dtype: int64"
      ]
     },
     "execution_count": 21,
     "metadata": {},
     "output_type": "execute_result"
    }
   ],
   "source": [
    "max_transit_time = grouped_df['transit_time'].max()\n",
    "grouped_df['transition_slot'] = pd.cut(grouped_df['transit_time'], \n",
    "                                       [0, 1, 5, 15, 30, 60, max_transit_time],\n",
    "                                       labels=[1, 5, 15, 30, 60, 100])\n",
    "grouped_df['transition_slot'].value_counts().sort_index()"
   ]
  },
  {
   "cell_type": "code",
   "execution_count": 22,
   "metadata": {},
   "outputs": [
    {
     "data": {
      "text/plain": [
       "<AxesSubplot:>"
      ]
     },
     "execution_count": 22,
     "metadata": {},
     "output_type": "execute_result"
    },
    {
     "data": {
      "image/png": "[encoded data removed]",
      "text/plain": [
       "<Figure size 720x360 with 1 Axes>"
      ]
     },
     "metadata": {
      "needs_background": "light"
     },
     "output_type": "display_data"
    }
   ],
   "source": [
    "grouped_df['transition_slot'].value_counts().sort_index().plot(kind='bar')"
   ]
  },
  {
   "cell_type": "markdown",
   "metadata": {},
   "source": [
    "Five equal bins are defined."
   ]
  },
  {
   "cell_type": "code",
   "execution_count": 23,
   "metadata": {},
   "outputs": [],
   "source": [
    "grouped_df['time_of_day'] = pd.cut(grouped_df['timeSlot'],\n",
    "                                   bins=5,\n",
    "                                   labels=['early_morn', 'morning', 'noon', 'evening', 'night'])"
   ]
  },
  {
   "cell_type": "code",
   "execution_count": 26,
   "metadata": {},
   "outputs": [],
   "source": [
    "#grouped_df['time_of_day'].value_counts().reindex(index=['early_morn', 'morning', 'noon', 'evening', 'night'])"
   ]
  },
  {
   "cell_type": "code",
   "execution_count": 27,
   "metadata": {},
   "outputs": [],
   "source": [
    "#grouped_df['time_of_day'].value_counts().reindex(index=['early_morn', 'morning', 'noon', 'evening', 'night']).plot(kind='bar')"
   ]
  },
  {
   "cell_type": "markdown",
   "metadata": {},
   "source": [
    "`ue_home_df` records how long a given user is at a given gNodeB (from `stay_time`)"
   ]
  },
  {
   "cell_type": "code",
   "execution_count": 28,
   "metadata": {},
   "outputs": [
    {
     "data": {
      "text/html": [
       "<div>\n",
       "<style scoped>\n",
       "    .dataframe tbody tr th:only-of-type {\n",
       "        vertical-align: middle;\n",
       "    }\n",
       "\n",
       "    .dataframe tbody tr th {\n",
       "        vertical-align: top;\n",
       "    }\n",
       "\n",
       "    .dataframe thead th {\n",
       "        text-align: right;\n",
       "    }\n",
       "</style>\n",
       "<table border=\"1\" class=\"dataframe\">\n",
       "  <thead>\n",
       "    <tr style=\"text-align: right;\">\n",
       "      <th></th>\n",
       "      <th>imsi</th>\n",
       "      <th>currentEnb</th>\n",
       "      <th>stay_time</th>\n",
       "    </tr>\n",
       "  </thead>\n",
       "  <tbody>\n",
       "    <tr>\n",
       "      <th>0</th>\n",
       "      <td>2778514794</td>\n",
       "      <td>6</td>\n",
       "      <td>8.0</td>\n",
       "    </tr>\n",
       "    <tr>\n",
       "      <th>1</th>\n",
       "      <td>2778514794</td>\n",
       "      <td>9</td>\n",
       "      <td>2.0</td>\n",
       "    </tr>\n",
       "    <tr>\n",
       "      <th>2</th>\n",
       "      <td>2778514794</td>\n",
       "      <td>13</td>\n",
       "      <td>2.0</td>\n",
       "    </tr>\n",
       "    <tr>\n",
       "      <th>3</th>\n",
       "      <td>2778514794</td>\n",
       "      <td>18</td>\n",
       "      <td>8.0</td>\n",
       "    </tr>\n",
       "    <tr>\n",
       "      <th>4</th>\n",
       "      <td>2778514794</td>\n",
       "      <td>21</td>\n",
       "      <td>11.0</td>\n",
       "    </tr>\n",
       "  </tbody>\n",
       "</table>\n",
       "</div>"
      ],
      "text/plain": [
       "         imsi  currentEnb  stay_time\n",
       "0  2778514794           6        8.0\n",
       "1  2778514794           9        2.0\n",
       "2  2778514794          13        2.0\n",
       "3  2778514794          18        8.0\n",
       "4  2778514794          21       11.0"
      ]
     },
     "execution_count": 28,
     "metadata": {},
     "output_type": "execute_result"
    }
   ],
   "source": [
    "ue_home_df = grouped_df.groupby(['imsi', 'currentEnb'])['stay_time'].sum().reset_index()\n",
    "ue_home_df.head()"
   ]
  },
  {
   "cell_type": "markdown",
   "metadata": {},
   "source": [
    "`home_df` records the gNodeB where each user stays for longer"
   ]
  },
  {
   "cell_type": "code",
   "execution_count": 29,
   "metadata": {},
   "outputs": [
    {
     "data": {
      "text/html": [
       "<div>\n",
       "<style scoped>\n",
       "    .dataframe tbody tr th:only-of-type {\n",
       "        vertical-align: middle;\n",
       "    }\n",
       "\n",
       "    .dataframe tbody tr th {\n",
       "        vertical-align: top;\n",
       "    }\n",
       "\n",
       "    .dataframe thead th {\n",
       "        text-align: right;\n",
       "    }\n",
       "</style>\n",
       "<table border=\"1\" class=\"dataframe\">\n",
       "  <thead>\n",
       "    <tr style=\"text-align: right;\">\n",
       "      <th></th>\n",
       "      <th>imsi</th>\n",
       "      <th>home_gnb</th>\n",
       "    </tr>\n",
       "  </thead>\n",
       "  <tbody>\n",
       "    <tr>\n",
       "      <th>8</th>\n",
       "      <td>2778514794</td>\n",
       "      <td>40</td>\n",
       "    </tr>\n",
       "    <tr>\n",
       "      <th>12</th>\n",
       "      <td>2778531564</td>\n",
       "      <td>27</td>\n",
       "    </tr>\n",
       "    <tr>\n",
       "      <th>21</th>\n",
       "      <td>2778535004</td>\n",
       "      <td>38</td>\n",
       "    </tr>\n",
       "    <tr>\n",
       "      <th>22</th>\n",
       "      <td>2778540704</td>\n",
       "      <td>7</td>\n",
       "    </tr>\n",
       "    <tr>\n",
       "      <th>30</th>\n",
       "      <td>2778543964</td>\n",
       "      <td>26</td>\n",
       "    </tr>\n",
       "  </tbody>\n",
       "</table>\n",
       "</div>"
      ],
      "text/plain": [
       "          imsi  home_gnb\n",
       "8   2778514794        40\n",
       "12  2778531564        27\n",
       "21  2778535004        38\n",
       "22  2778540704         7\n",
       "30  2778543964        26"
      ]
     },
     "execution_count": 29,
     "metadata": {},
     "output_type": "execute_result"
    }
   ],
   "source": [
    "home_gnb = ue_home_df.loc[ue_home_df.groupby(['imsi'])['stay_time'].idxmax()][['imsi', 'currentEnb']]\n",
    "home_gnb.columns = ['imsi', 'home_gnb']\n",
    "home_gnb.head()"
   ]
  },
  {
   "cell_type": "markdown",
   "metadata": {},
   "source": [
    "`ue_df` records the number of gNodeB's a given user is in for each time of the day"
   ]
  },
  {
   "cell_type": "code",
   "execution_count": 30,
   "metadata": {},
   "outputs": [
    {
     "data": {
      "text/html": [
       "<div>\n",
       "<style scoped>\n",
       "    .dataframe tbody tr th:only-of-type {\n",
       "        vertical-align: middle;\n",
       "    }\n",
       "\n",
       "    .dataframe tbody tr th {\n",
       "        vertical-align: top;\n",
       "    }\n",
       "\n",
       "    .dataframe thead th {\n",
       "        text-align: right;\n",
       "    }\n",
       "</style>\n",
       "<table border=\"1\" class=\"dataframe\">\n",
       "  <thead>\n",
       "    <tr style=\"text-align: right;\">\n",
       "      <th></th>\n",
       "      <th>imsi</th>\n",
       "      <th>time_of_day</th>\n",
       "      <th>currentEnb</th>\n",
       "    </tr>\n",
       "  </thead>\n",
       "  <tbody>\n",
       "    <tr>\n",
       "      <th>0</th>\n",
       "      <td>2778514794</td>\n",
       "      <td>early_morn</td>\n",
       "      <td>8</td>\n",
       "    </tr>\n",
       "    <tr>\n",
       "      <th>1</th>\n",
       "      <td>2778514794</td>\n",
       "      <td>morning</td>\n",
       "      <td>0</td>\n",
       "    </tr>\n",
       "    <tr>\n",
       "      <th>2</th>\n",
       "      <td>2778514794</td>\n",
       "      <td>noon</td>\n",
       "      <td>0</td>\n",
       "    </tr>\n",
       "    <tr>\n",
       "      <th>3</th>\n",
       "      <td>2778514794</td>\n",
       "      <td>evening</td>\n",
       "      <td>0</td>\n",
       "    </tr>\n",
       "    <tr>\n",
       "      <th>4</th>\n",
       "      <td>2778514794</td>\n",
       "      <td>night</td>\n",
       "      <td>4</td>\n",
       "    </tr>\n",
       "  </tbody>\n",
       "</table>\n",
       "</div>"
      ],
      "text/plain": [
       "         imsi time_of_day  currentEnb\n",
       "0  2778514794  early_morn           8\n",
       "1  2778514794     morning           0\n",
       "2  2778514794        noon           0\n",
       "3  2778514794     evening           0\n",
       "4  2778514794       night           4"
      ]
     },
     "execution_count": 30,
     "metadata": {},
     "output_type": "execute_result"
    }
   ],
   "source": [
    "ue_df = grouped_df.groupby(['imsi', 'time_of_day'])['currentEnb'].count().reset_index()\n",
    "ue_df.head()"
   ]
  },
  {
   "cell_type": "markdown",
   "metadata": {},
   "source": [
    "`ue_ctxt_df` contains the same information than `ue_df` but pivotted to show a user per row"
   ]
  },
  {
   "cell_type": "code",
   "execution_count": 31,
   "metadata": {},
   "outputs": [
    {
     "data": {
      "text/html": [
       "<div>\n",
       "<style scoped>\n",
       "    .dataframe tbody tr th:only-of-type {\n",
       "        vertical-align: middle;\n",
       "    }\n",
       "\n",
       "    .dataframe tbody tr th {\n",
       "        vertical-align: top;\n",
       "    }\n",
       "\n",
       "    .dataframe thead th {\n",
       "        text-align: right;\n",
       "    }\n",
       "</style>\n",
       "<table border=\"1\" class=\"dataframe\">\n",
       "  <thead>\n",
       "    <tr style=\"text-align: right;\">\n",
       "      <th>time_of_day</th>\n",
       "      <th>early_morn</th>\n",
       "      <th>morning</th>\n",
       "      <th>noon</th>\n",
       "      <th>evening</th>\n",
       "      <th>night</th>\n",
       "    </tr>\n",
       "    <tr>\n",
       "      <th>imsi</th>\n",
       "      <th></th>\n",
       "      <th></th>\n",
       "      <th></th>\n",
       "      <th></th>\n",
       "      <th></th>\n",
       "    </tr>\n",
       "  </thead>\n",
       "  <tbody>\n",
       "    <tr>\n",
       "      <th>2778514794</th>\n",
       "      <td>8</td>\n",
       "      <td>0</td>\n",
       "      <td>0</td>\n",
       "      <td>0</td>\n",
       "      <td>4</td>\n",
       "    </tr>\n",
       "    <tr>\n",
       "      <th>2778531564</th>\n",
       "      <td>4</td>\n",
       "      <td>0</td>\n",
       "      <td>0</td>\n",
       "      <td>0</td>\n",
       "      <td>6</td>\n",
       "    </tr>\n",
       "    <tr>\n",
       "      <th>2778535004</th>\n",
       "      <td>5</td>\n",
       "      <td>0</td>\n",
       "      <td>0</td>\n",
       "      <td>0</td>\n",
       "      <td>7</td>\n",
       "    </tr>\n",
       "    <tr>\n",
       "      <th>2778540704</th>\n",
       "      <td>5</td>\n",
       "      <td>0</td>\n",
       "      <td>0</td>\n",
       "      <td>0</td>\n",
       "      <td>5</td>\n",
       "    </tr>\n",
       "    <tr>\n",
       "      <th>2778543964</th>\n",
       "      <td>3</td>\n",
       "      <td>0</td>\n",
       "      <td>0</td>\n",
       "      <td>0</td>\n",
       "      <td>9</td>\n",
       "    </tr>\n",
       "  </tbody>\n",
       "</table>\n",
       "</div>"
      ],
      "text/plain": [
       "time_of_day  early_morn  morning  noon  evening  night\n",
       "imsi                                                  \n",
       "2778514794            8        0     0        0      4\n",
       "2778531564            4        0     0        0      6\n",
       "2778535004            5        0     0        0      7\n",
       "2778540704            5        0     0        0      5\n",
       "2778543964            3        0     0        0      9"
      ]
     },
     "execution_count": 31,
     "metadata": {},
     "output_type": "execute_result"
    }
   ],
   "source": [
    "ue_ctxt_df = pd.pivot_table(ue_df, index='imsi', columns='time_of_day', values='currentEnb', fill_value=0)\n",
    "ue_ctxt_df.head()"
   ]
  },
  {
   "cell_type": "markdown",
   "metadata": {},
   "source": [
    "`seq_df` is an auxiliary dataframe that, for each user, provides its trajectory, the time where each transition happened, the bucketed time it took for each user to move from the previous gNodeB and the signal strength in each gNodeB"
   ]
  },
  {
   "cell_type": "code",
   "execution_count": 32,
   "metadata": {},
   "outputs": [
    {
     "data": {
      "text/html": [
       "<div>\n",
       "<style scoped>\n",
       "    .dataframe tbody tr th:only-of-type {\n",
       "        vertical-align: middle;\n",
       "    }\n",
       "\n",
       "    .dataframe tbody tr th {\n",
       "        vertical-align: top;\n",
       "    }\n",
       "\n",
       "    .dataframe thead th {\n",
       "        text-align: right;\n",
       "    }\n",
       "</style>\n",
       "<table border=\"1\" class=\"dataframe\">\n",
       "  <thead>\n",
       "    <tr style=\"text-align: right;\">\n",
       "      <th></th>\n",
       "      <th>imsi</th>\n",
       "      <th>currentEnb</th>\n",
       "      <th>timeSlot</th>\n",
       "      <th>transition_slot</th>\n",
       "    </tr>\n",
       "  </thead>\n",
       "  <tbody>\n",
       "    <tr>\n",
       "      <th>0</th>\n",
       "      <td>2778514794</td>\n",
       "      <td>[22, 18, 9, 23, 13, 23, 13, 40, 6, 21, 22, 39]</td>\n",
       "      <td>[0, 0, 1, 1, 2, 2, 2, 2, 48, 49, 49, 50]</td>\n",
       "      <td>[nan, 15, 15, 5, 15, 1, 1, 1, 100, 15, 15, 15]</td>\n",
       "    </tr>\n",
       "    <tr>\n",
       "      <th>1</th>\n",
       "      <td>2778531564</td>\n",
       "      <td>[10, 11, 26, 27, 38, 26, 38, 26, 34, 10]</td>\n",
       "      <td>[0, 0, 1, 1, 48, 49, 49, 49, 49, 50]</td>\n",
       "      <td>[nan, 5, 15, 15, 100, 15, 1, 1, 5, 15]</td>\n",
       "    </tr>\n",
       "    <tr>\n",
       "      <th>2</th>\n",
       "      <td>2778535004</td>\n",
       "      <td>[17, 15, 32, 35, 38, 26, 38, 35, 32, 15, 14, 17]</td>\n",
       "      <td>[0, 0, 0, 1, 1, 48, 48, 48, 49, 49, 49, 50]</td>\n",
       "      <td>[nan, 5, 15, 15, 15, 100, 1, 5, 15, 5, 15, 5]</td>\n",
       "    </tr>\n",
       "    <tr>\n",
       "      <th>3</th>\n",
       "      <td>2778540704</td>\n",
       "      <td>[35, 38, 26, 27, 7, 27, 24, 26, 38, 35]</td>\n",
       "      <td>[0, 0, 0, 1, 2, 48, 48, 49, 49, 50]</td>\n",
       "      <td>[nan, 5, 15, 5, 30, 100, 5, 15, 15, 5]</td>\n",
       "    </tr>\n",
       "    <tr>\n",
       "      <th>4</th>\n",
       "      <td>2778543964</td>\n",
       "      <td>[7, 24, 26, 27, 24, 27, 24, 27, 24, 27, 24, 7]</td>\n",
       "      <td>[0, 0, 1, 48, 48, 48, 48, 48, 48, 48, 49, 49]</td>\n",
       "      <td>[nan, 5, 15, 100, 1, 1, 1, 1, 1, 1, 1, 5]</td>\n",
       "    </tr>\n",
       "  </tbody>\n",
       "</table>\n",
       "</div>"
      ],
      "text/plain": [
       "         imsi                                        currentEnb  \\\n",
       "0  2778514794    [22, 18, 9, 23, 13, 23, 13, 40, 6, 21, 22, 39]   \n",
       "1  2778531564          [10, 11, 26, 27, 38, 26, 38, 26, 34, 10]   \n",
       "2  2778535004  [17, 15, 32, 35, 38, 26, 38, 35, 32, 15, 14, 17]   \n",
       "3  2778540704           [35, 38, 26, 27, 7, 27, 24, 26, 38, 35]   \n",
       "4  2778543964    [7, 24, 26, 27, 24, 27, 24, 27, 24, 27, 24, 7]   \n",
       "\n",
       "                                        timeSlot  \\\n",
       "0       [0, 0, 1, 1, 2, 2, 2, 2, 48, 49, 49, 50]   \n",
       "1           [0, 0, 1, 1, 48, 49, 49, 49, 49, 50]   \n",
       "2    [0, 0, 0, 1, 1, 48, 48, 48, 49, 49, 49, 50]   \n",
       "3            [0, 0, 0, 1, 2, 48, 48, 49, 49, 50]   \n",
       "4  [0, 0, 1, 48, 48, 48, 48, 48, 48, 48, 49, 49]   \n",
       "\n",
       "                                  transition_slot  \n",
       "0  [nan, 15, 15, 5, 15, 1, 1, 1, 100, 15, 15, 15]  \n",
       "1          [nan, 5, 15, 15, 100, 15, 1, 1, 5, 15]  \n",
       "2   [nan, 5, 15, 15, 15, 100, 1, 5, 15, 5, 15, 5]  \n",
       "3          [nan, 5, 15, 5, 30, 100, 5, 15, 15, 5]  \n",
       "4       [nan, 5, 15, 100, 1, 1, 1, 1, 1, 1, 1, 5]  "
      ]
     },
     "execution_count": 32,
     "metadata": {},
     "output_type": "execute_result"
    }
   ],
   "source": [
    "seq_df = grouped_df.groupby(['imsi'])['currentEnb', 'timeSlot','transition_slot'] \\\n",
    "                   .agg(lambda x: list(x)).reset_index()\n",
    "\n",
    "seq_df.head()"
   ]
  },
  {
   "cell_type": "code",
   "execution_count": 33,
   "metadata": {},
   "outputs": [],
   "source": [
    "def window_sequence(seq, window_size=5):\n",
    "    \"\"\"This function turns a sequence intro \n",
    "    a matrix where each row is a sequence of\n",
    "    the previous 'windows_size' elements\"\"\"\n",
    "    \n",
    "    windows = []\n",
    "    seq_len = len(seq)\n",
    "    for i in range(len(seq) - window_size + 1):\n",
    "        window = []\n",
    "        for j in range(i, i + window_size):\n",
    "            window.append(seq[j])\n",
    "        windows.append(window)\n",
    "    return windows"
   ]
  },
  {
   "cell_type": "markdown",
   "metadata": {},
   "source": [
    "Each feature in `seq_df` creates a new feature where the sequences from the original feature is recorded (five elements in each sequence):\n",
    "* `gnode_seq` records the sequences of each gNodeB in `currentEnb`.\n",
    "* `time_seq` records the sequences of each timeslots in `timeSlot`.\n",
    "* `trans_seq` records the sequences of each transition slots in `transition_slot`.\n",
    "\n",
    "Additionally, we create a new feature with the number of transitions:\n",
    "* `seq_len`"
   ]
  },
  {
   "cell_type": "code",
   "execution_count": 34,
   "metadata": {},
   "outputs": [
    {
     "data": {
      "text/html": [
       "<div>\n",
       "<style scoped>\n",
       "    .dataframe tbody tr th:only-of-type {\n",
       "        vertical-align: middle;\n",
       "    }\n",
       "\n",
       "    .dataframe tbody tr th {\n",
       "        vertical-align: top;\n",
       "    }\n",
       "\n",
       "    .dataframe thead th {\n",
       "        text-align: right;\n",
       "    }\n",
       "</style>\n",
       "<table border=\"1\" class=\"dataframe\">\n",
       "  <thead>\n",
       "    <tr style=\"text-align: right;\">\n",
       "      <th></th>\n",
       "      <th>imsi</th>\n",
       "      <th>currentEnb</th>\n",
       "      <th>timeSlot</th>\n",
       "      <th>transition_slot</th>\n",
       "      <th>gnode_seq</th>\n",
       "      <th>time_seq</th>\n",
       "      <th>trans_seq</th>\n",
       "      <th>seq_len</th>\n",
       "    </tr>\n",
       "  </thead>\n",
       "  <tbody>\n",
       "    <tr>\n",
       "      <th>0</th>\n",
       "      <td>2778514794</td>\n",
       "      <td>[22, 18, 9, 23, 13, 23, 13, 40, 6, 21, 22, 39]</td>\n",
       "      <td>[0, 0, 1, 1, 2, 2, 2, 2, 48, 49, 49, 50]</td>\n",
       "      <td>[nan, 15, 15, 5, 15, 1, 1, 1, 100, 15, 15, 15]</td>\n",
       "      <td>[[22, 18, 9, 23, 13], [18, 9, 23, 13, 23], [9,...</td>\n",
       "      <td>[[0, 0, 1, 1, 2], [0, 1, 1, 2, 2], [1, 1, 2, 2...</td>\n",
       "      <td>[[nan, 15, 15, 5, 15], [15, 15, 5, 15, 1], [15...</td>\n",
       "      <td>8</td>\n",
       "    </tr>\n",
       "    <tr>\n",
       "      <th>1</th>\n",
       "      <td>2778531564</td>\n",
       "      <td>[10, 11, 26, 27, 38, 26, 38, 26, 34, 10]</td>\n",
       "      <td>[0, 0, 1, 1, 48, 49, 49, 49, 49, 50]</td>\n",
       "      <td>[nan, 5, 15, 15, 100, 15, 1, 1, 5, 15]</td>\n",
       "      <td>[[10, 11, 26, 27, 38], [11, 26, 27, 38, 26], [...</td>\n",
       "      <td>[[0, 0, 1, 1, 48], [0, 1, 1, 48, 49], [1, 1, 4...</td>\n",
       "      <td>[[nan, 5, 15, 15, 100], [5, 15, 15, 100, 15], ...</td>\n",
       "      <td>6</td>\n",
       "    </tr>\n",
       "    <tr>\n",
       "      <th>2</th>\n",
       "      <td>2778535004</td>\n",
       "      <td>[17, 15, 32, 35, 38, 26, 38, 35, 32, 15, 14, 17]</td>\n",
       "      <td>[0, 0, 0, 1, 1, 48, 48, 48, 49, 49, 49, 50]</td>\n",
       "      <td>[nan, 5, 15, 15, 15, 100, 1, 5, 15, 5, 15, 5]</td>\n",
       "      <td>[[17, 15, 32, 35, 38], [15, 32, 35, 38, 26], [...</td>\n",
       "      <td>[[0, 0, 0, 1, 1], [0, 0, 1, 1, 48], [0, 1, 1, ...</td>\n",
       "      <td>[[nan, 5, 15, 15, 15], [5, 15, 15, 15, 100], [...</td>\n",
       "      <td>8</td>\n",
       "    </tr>\n",
       "    <tr>\n",
       "      <th>3</th>\n",
       "      <td>2778540704</td>\n",
       "      <td>[35, 38, 26, 27, 7, 27, 24, 26, 38, 35]</td>\n",
       "      <td>[0, 0, 0, 1, 2, 48, 48, 49, 49, 50]</td>\n",
       "      <td>[nan, 5, 15, 5, 30, 100, 5, 15, 15, 5]</td>\n",
       "      <td>[[35, 38, 26, 27, 7], [38, 26, 27, 7, 27], [26...</td>\n",
       "      <td>[[0, 0, 0, 1, 2], [0, 0, 1, 2, 48], [0, 1, 2, ...</td>\n",
       "      <td>[[nan, 5, 15, 5, 30], [5, 15, 5, 30, 100], [15...</td>\n",
       "      <td>6</td>\n",
       "    </tr>\n",
       "    <tr>\n",
       "      <th>4</th>\n",
       "      <td>2778543964</td>\n",
       "      <td>[7, 24, 26, 27, 24, 27, 24, 27, 24, 27, 24, 7]</td>\n",
       "      <td>[0, 0, 1, 48, 48, 48, 48, 48, 48, 48, 49, 49]</td>\n",
       "      <td>[nan, 5, 15, 100, 1, 1, 1, 1, 1, 1, 1, 5]</td>\n",
       "      <td>[[7, 24, 26, 27, 24], [24, 26, 27, 24, 27], [2...</td>\n",
       "      <td>[[0, 0, 1, 48, 48], [0, 1, 48, 48, 48], [1, 48...</td>\n",
       "      <td>[[nan, 5, 15, 100, 1], [5, 15, 100, 1, 1], [15...</td>\n",
       "      <td>8</td>\n",
       "    </tr>\n",
       "    <tr>\n",
       "      <th>...</th>\n",
       "      <td>...</td>\n",
       "      <td>...</td>\n",
       "      <td>...</td>\n",
       "      <td>...</td>\n",
       "      <td>...</td>\n",
       "      <td>...</td>\n",
       "      <td>...</td>\n",
       "      <td>...</td>\n",
       "    </tr>\n",
       "    <tr>\n",
       "      <th>8629</th>\n",
       "      <td>2797485664</td>\n",
       "      <td>[33, 34, 35, 38, 37, 38, 35, 34, 33]</td>\n",
       "      <td>[0, 0, 0, 1, 1, 1, 48, 48, 49]</td>\n",
       "      <td>[nan, 15, 5, 15, 1, 1, 100, 15, 15]</td>\n",
       "      <td>[[33, 34, 35, 38, 37], [34, 35, 38, 37, 38], [...</td>\n",
       "      <td>[[0, 0, 0, 1, 1], [0, 0, 1, 1, 1], [0, 1, 1, 1...</td>\n",
       "      <td>[[nan, 15, 5, 15, 1], [15, 5, 15, 1, 1], [5, 1...</td>\n",
       "      <td>5</td>\n",
       "    </tr>\n",
       "    <tr>\n",
       "      <th>8630</th>\n",
       "      <td>2797487414</td>\n",
       "      <td>[38, 26, 11, 24, 13, 24, 13, 24, 40, 24, 27, 2...</td>\n",
       "      <td>[0, 0, 0, 1, 1, 1, 1, 1, 1, 48, 48, 49, 49]</td>\n",
       "      <td>[nan, 5, 15, 15, 1, 1, 1, 1, 5, 100, 15, 5, 5]</td>\n",
       "      <td>[[38, 26, 11, 24, 13], [26, 11, 24, 13, 24], [...</td>\n",
       "      <td>[[0, 0, 0, 1, 1], [0, 0, 1, 1, 1], [0, 1, 1, 1...</td>\n",
       "      <td>[[nan, 5, 15, 15, 1], [5, 15, 15, 1, 1], [15, ...</td>\n",
       "      <td>9</td>\n",
       "    </tr>\n",
       "    <tr>\n",
       "      <th>8631</th>\n",
       "      <td>2797489164</td>\n",
       "      <td>[10, 11, 13, 24, 11, 10]</td>\n",
       "      <td>[0, 0, 0, 0, 48, 49]</td>\n",
       "      <td>[nan, 1, 15, 5, 100, 15]</td>\n",
       "      <td>[[10, 11, 13, 24, 11], [11, 13, 24, 11, 10]]</td>\n",
       "      <td>[[0, 0, 0, 0, 48], [0, 0, 0, 48, 49]]</td>\n",
       "      <td>[[nan, 1, 15, 5, 100], [1, 15, 5, 100, 15]]</td>\n",
       "      <td>2</td>\n",
       "    </tr>\n",
       "    <tr>\n",
       "      <th>8632</th>\n",
       "      <td>2797490924</td>\n",
       "      <td>[15, 33, 34, 26, 38, 27, 38, 27, 37, 35, 32, 15]</td>\n",
       "      <td>[0, 0, 0, 1, 2, 2, 2, 2, 48, 49, 50, 50]</td>\n",
       "      <td>[nan, 5, 15, 15, 15, 5, 1, 1, 100, 30, 15, 5]</td>\n",
       "      <td>[[15, 33, 34, 26, 38], [33, 34, 26, 38, 27], [...</td>\n",
       "      <td>[[0, 0, 0, 1, 2], [0, 0, 1, 2, 2], [0, 1, 2, 2...</td>\n",
       "      <td>[[nan, 5, 15, 15, 15], [5, 15, 15, 15, 5], [15...</td>\n",
       "      <td>8</td>\n",
       "    </tr>\n",
       "    <tr>\n",
       "      <th>8633</th>\n",
       "      <td>2797492664</td>\n",
       "      <td>[33, 34, 26, 24, 27, 24, 26, 11, 34, 33]</td>\n",
       "      <td>[0, 0, 0, 1, 1, 1, 48, 48, 49, 49]</td>\n",
       "      <td>[nan, 5, 15, 15, 5, 1, 100, 5, 15, 15]</td>\n",
       "      <td>[[33, 34, 26, 24, 27], [34, 26, 24, 27, 24], [...</td>\n",
       "      <td>[[0, 0, 0, 1, 1], [0, 0, 1, 1, 1], [0, 1, 1, 1...</td>\n",
       "      <td>[[nan, 5, 15, 15, 5], [5, 15, 15, 5, 1], [15, ...</td>\n",
       "      <td>6</td>\n",
       "    </tr>\n",
       "  </tbody>\n",
       "</table>\n",
       "<p>8634 rows × 8 columns</p>\n",
       "</div>"
      ],
      "text/plain": [
       "            imsi                                         currentEnb  \\\n",
       "0     2778514794     [22, 18, 9, 23, 13, 23, 13, 40, 6, 21, 22, 39]   \n",
       "1     2778531564           [10, 11, 26, 27, 38, 26, 38, 26, 34, 10]   \n",
       "2     2778535004   [17, 15, 32, 35, 38, 26, 38, 35, 32, 15, 14, 17]   \n",
       "3     2778540704            [35, 38, 26, 27, 7, 27, 24, 26, 38, 35]   \n",
       "4     2778543964     [7, 24, 26, 27, 24, 27, 24, 27, 24, 27, 24, 7]   \n",
       "...          ...                                                ...   \n",
       "8629  2797485664               [33, 34, 35, 38, 37, 38, 35, 34, 33]   \n",
       "8630  2797487414  [38, 26, 11, 24, 13, 24, 13, 24, 40, 24, 27, 2...   \n",
       "8631  2797489164                           [10, 11, 13, 24, 11, 10]   \n",
       "8632  2797490924   [15, 33, 34, 26, 38, 27, 38, 27, 37, 35, 32, 15]   \n",
       "8633  2797492664           [33, 34, 26, 24, 27, 24, 26, 11, 34, 33]   \n",
       "\n",
       "                                           timeSlot  \\\n",
       "0          [0, 0, 1, 1, 2, 2, 2, 2, 48, 49, 49, 50]   \n",
       "1              [0, 0, 1, 1, 48, 49, 49, 49, 49, 50]   \n",
       "2       [0, 0, 0, 1, 1, 48, 48, 48, 49, 49, 49, 50]   \n",
       "3               [0, 0, 0, 1, 2, 48, 48, 49, 49, 50]   \n",
       "4     [0, 0, 1, 48, 48, 48, 48, 48, 48, 48, 49, 49]   \n",
       "...                                             ...   \n",
       "8629                 [0, 0, 0, 1, 1, 1, 48, 48, 49]   \n",
       "8630    [0, 0, 0, 1, 1, 1, 1, 1, 1, 48, 48, 49, 49]   \n",
       "8631                           [0, 0, 0, 0, 48, 49]   \n",
       "8632       [0, 0, 0, 1, 2, 2, 2, 2, 48, 49, 50, 50]   \n",
       "8633             [0, 0, 0, 1, 1, 1, 48, 48, 49, 49]   \n",
       "\n",
       "                                     transition_slot  \\\n",
       "0     [nan, 15, 15, 5, 15, 1, 1, 1, 100, 15, 15, 15]   \n",
       "1             [nan, 5, 15, 15, 100, 15, 1, 1, 5, 15]   \n",
       "2      [nan, 5, 15, 15, 15, 100, 1, 5, 15, 5, 15, 5]   \n",
       "3             [nan, 5, 15, 5, 30, 100, 5, 15, 15, 5]   \n",
       "4          [nan, 5, 15, 100, 1, 1, 1, 1, 1, 1, 1, 5]   \n",
       "...                                              ...   \n",
       "8629             [nan, 15, 5, 15, 1, 1, 100, 15, 15]   \n",
       "8630  [nan, 5, 15, 15, 1, 1, 1, 1, 5, 100, 15, 5, 5]   \n",
       "8631                        [nan, 1, 15, 5, 100, 15]   \n",
       "8632   [nan, 5, 15, 15, 15, 5, 1, 1, 100, 30, 15, 5]   \n",
       "8633          [nan, 5, 15, 15, 5, 1, 100, 5, 15, 15]   \n",
       "\n",
       "                                              gnode_seq  \\\n",
       "0     [[22, 18, 9, 23, 13], [18, 9, 23, 13, 23], [9,...   \n",
       "1     [[10, 11, 26, 27, 38], [11, 26, 27, 38, 26], [...   \n",
       "2     [[17, 15, 32, 35, 38], [15, 32, 35, 38, 26], [...   \n",
       "3     [[35, 38, 26, 27, 7], [38, 26, 27, 7, 27], [26...   \n",
       "4     [[7, 24, 26, 27, 24], [24, 26, 27, 24, 27], [2...   \n",
       "...                                                 ...   \n",
       "8629  [[33, 34, 35, 38, 37], [34, 35, 38, 37, 38], [...   \n",
       "8630  [[38, 26, 11, 24, 13], [26, 11, 24, 13, 24], [...   \n",
       "8631       [[10, 11, 13, 24, 11], [11, 13, 24, 11, 10]]   \n",
       "8632  [[15, 33, 34, 26, 38], [33, 34, 26, 38, 27], [...   \n",
       "8633  [[33, 34, 26, 24, 27], [34, 26, 24, 27, 24], [...   \n",
       "\n",
       "                                               time_seq  \\\n",
       "0     [[0, 0, 1, 1, 2], [0, 1, 1, 2, 2], [1, 1, 2, 2...   \n",
       "1     [[0, 0, 1, 1, 48], [0, 1, 1, 48, 49], [1, 1, 4...   \n",
       "2     [[0, 0, 0, 1, 1], [0, 0, 1, 1, 48], [0, 1, 1, ...   \n",
       "3     [[0, 0, 0, 1, 2], [0, 0, 1, 2, 48], [0, 1, 2, ...   \n",
       "4     [[0, 0, 1, 48, 48], [0, 1, 48, 48, 48], [1, 48...   \n",
       "...                                                 ...   \n",
       "8629  [[0, 0, 0, 1, 1], [0, 0, 1, 1, 1], [0, 1, 1, 1...   \n",
       "8630  [[0, 0, 0, 1, 1], [0, 0, 1, 1, 1], [0, 1, 1, 1...   \n",
       "8631              [[0, 0, 0, 0, 48], [0, 0, 0, 48, 49]]   \n",
       "8632  [[0, 0, 0, 1, 2], [0, 0, 1, 2, 2], [0, 1, 2, 2...   \n",
       "8633  [[0, 0, 0, 1, 1], [0, 0, 1, 1, 1], [0, 1, 1, 1...   \n",
       "\n",
       "                                              trans_seq  seq_len  \n",
       "0     [[nan, 15, 15, 5, 15], [15, 15, 5, 15, 1], [15...        8  \n",
       "1     [[nan, 5, 15, 15, 100], [5, 15, 15, 100, 15], ...        6  \n",
       "2     [[nan, 5, 15, 15, 15], [5, 15, 15, 15, 100], [...        8  \n",
       "3     [[nan, 5, 15, 5, 30], [5, 15, 5, 30, 100], [15...        6  \n",
       "4     [[nan, 5, 15, 100, 1], [5, 15, 100, 1, 1], [15...        8  \n",
       "...                                                 ...      ...  \n",
       "8629  [[nan, 15, 5, 15, 1], [15, 5, 15, 1, 1], [5, 1...        5  \n",
       "8630  [[nan, 5, 15, 15, 1], [5, 15, 15, 1, 1], [15, ...        9  \n",
       "8631        [[nan, 1, 15, 5, 100], [1, 15, 5, 100, 15]]        2  \n",
       "8632  [[nan, 5, 15, 15, 15], [5, 15, 15, 15, 5], [15...        8  \n",
       "8633  [[nan, 5, 15, 15, 5], [5, 15, 15, 5, 1], [15, ...        6  \n",
       "\n",
       "[8634 rows x 8 columns]"
      ]
     },
     "execution_count": 34,
     "metadata": {},
     "output_type": "execute_result"
    }
   ],
   "source": [
    "seq_df['gnode_seq'] = seq_df['currentEnb'].apply(window_sequence).values\n",
    "seq_df['time_seq'] = seq_df['timeSlot'].apply(window_sequence).values\n",
    "seq_df['trans_seq'] = seq_df['transition_slot'].apply(window_sequence).values\n",
    "seq_df['seq_len'] = seq_df['gnode_seq'].apply(lambda x: len(x))\n",
    "seq_df"
   ]
  },
  {
   "cell_type": "markdown",
   "metadata": {},
   "source": [
    "Next, we transform each sequence feature into a new dataframe"
   ]
  },
  {
   "cell_type": "code",
   "execution_count": 35,
   "metadata": {},
   "outputs": [],
   "source": [
    "enode_seq_list = [sequence for sequences in seq_df['gnode_seq'] for sequence in sequences]\n",
    "time_seq_list = [sequence for sequences in seq_df['time_seq'] for sequence in sequences]\n",
    "trans_seq_list = [sequence for sequences in seq_df['trans_seq'] for sequence in sequences]\n",
    "\n",
    "enode_df = pd.DataFrame(enode_seq_list, columns=['gnode_1', 'gnode_2', 'gnode_3', 'gnode_4', 'target_gnb'])\n",
    "time_df = pd.DataFrame(time_seq_list, columns=['time_1', 'time_2', 'time_3', 'time_4', 'target_time'])\n",
    "trans_df = pd.DataFrame(trans_seq_list, columns=['trans_1', 'trans_2', 'trans_3', 'trans_4', 'target_trans_slot'])"
   ]
  },
  {
   "cell_type": "code",
   "execution_count": 36,
   "metadata": {},
   "outputs": [],
   "source": [
    "imsi_list = list()\n",
    "for a, b in zip(seq_df['imsi'], seq_df['seq_len']):\n",
    "    imsi_list.extend([a] * b)"
   ]
  },
  {
   "cell_type": "markdown",
   "metadata": {},
   "source": [
    "Finally, we create the dataset that will be used for prediction. What we want to predict is what follows: given a detected transition to a given gNodeB, which will be the following gNodeB and when will it happen?\n",
    "\n",
    "Thus, the targets are:\n",
    "* `target_gnb`: Next gNodeB\n",
    "* `target_trans_slot`: Time it will take to move to the next gNodeB.\n",
    "\n",
    "The following features will be considered:\n",
    "* `enode_1`: The fourth previous gNodeB in a given sequence. Depends on the current user's trajectory.\n",
    "* `enode_2`: The third previous gNodeB in a given sequence. Depends on the current user's trajectory.\n",
    "* `enode_3`: The second previous gNodeB in a given sequence. Depends on the current user's trajectory.\n",
    "* `enode_4`: The first previous gNodeB in a given sequence. Depends on the current user's trajectory.\n",
    "* `time_1`: The time where the user moved to the fourth previous gNodeB in a given sequence. Depends on the current user's trajectory.\n",
    "* `time_2`: The time where the user moved to the third previous gNodeB in a given sequence. Depends on the current user's trajectory.\n",
    "* `time_3`: The time where the user moved to the second previous gNodeB in a given sequence. Depends on the current user's trajectory.\n",
    "* `time_4`: The time where the user moved to the first previous gNodeB in a given sequence. Depends on the current user's trajectory.\n",
    "* `home_gnb`: The gNodeB where the user doing for a given trajectory stays more times within a day. It's is a historical data.\n",
    "* `early_morn`: The number of gNodeB's where the user for a given trajectory stays in the early morning. It's is a historical data.\n",
    "* `morning`: The number of gNodeB's where the user for a given trajectory stays in the morning. It's is a historical data.\n",
    "* `noon`: The number of gNodeB's where the user for a given trajectory stays at noon. It's is a historical data.\n",
    "* `evening`: The number of gNodeB's where the user for a given trajectory stays in the evening. It's is a historical data.\n",
    "* `night`: The number of gNodeB's where the user for a given trajectory stays at night. It's is a historical data.\n",
    "* `neigh_1`: One of the four closest gNodeB's to `enode_4`. It's is a static data.\n",
    "* `neigh_2`: One of the four closest gNodeB's to `enode_4`. It's is a static data.\n",
    "* `neigh_3`: One of the four closest gNodeB's to `enode_4`. It's is a static data.\n",
    "* `neigh_4`: One of the four closest gNodeB's to `enode_4`. It's is a static data."
   ]
  },
  {
   "cell_type": "code",
   "execution_count": 38,
   "metadata": {},
   "outputs": [],
   "source": [
    "X_train = pd.concat([enode_df, time_df], axis=1)\n",
    "X_train['target_trans_slot'] = trans_df['target_trans_slot']\n",
    "X_train['imsi'] = imsi_list"
   ]
  },
  {
   "cell_type": "code",
   "execution_count": 39,
   "metadata": {},
   "outputs": [],
   "source": [
    "X_train = X_train.merge(home_gnb, on='imsi').merge(ue_ctxt_df, on='imsi')"
   ]
  },
  {
   "cell_type": "code",
   "execution_count": 40,
   "metadata": {},
   "outputs": [],
   "source": [
    "X_train = X_train.merge(gnb_neigh, left_on='gnode_4', right_on='gnodeB', how='left')"
   ]
  },
  {
   "cell_type": "code",
   "execution_count": 41,
   "metadata": {},
   "outputs": [],
   "source": [
    "del X_train['gnodeB']"
   ]
  },
  {
   "cell_type": "code",
   "execution_count": 42,
   "metadata": {},
   "outputs": [
    {
     "data": {
      "text/html": [
       "<div>\n",
       "<style scoped>\n",
       "    .dataframe tbody tr th:only-of-type {\n",
       "        vertical-align: middle;\n",
       "    }\n",
       "\n",
       "    .dataframe tbody tr th {\n",
       "        vertical-align: top;\n",
       "    }\n",
       "\n",
       "    .dataframe thead th {\n",
       "        text-align: right;\n",
       "    }\n",
       "</style>\n",
       "<table border=\"1\" class=\"dataframe\">\n",
       "  <thead>\n",
       "    <tr style=\"text-align: right;\">\n",
       "      <th></th>\n",
       "      <th>gnode_1</th>\n",
       "      <th>gnode_2</th>\n",
       "      <th>gnode_3</th>\n",
       "      <th>gnode_4</th>\n",
       "      <th>target_gnb</th>\n",
       "      <th>time_1</th>\n",
       "      <th>time_2</th>\n",
       "      <th>time_3</th>\n",
       "      <th>time_4</th>\n",
       "      <th>target_time</th>\n",
       "      <th>...</th>\n",
       "      <th>home_gnb</th>\n",
       "      <th>early_morn</th>\n",
       "      <th>morning</th>\n",
       "      <th>noon</th>\n",
       "      <th>evening</th>\n",
       "      <th>night</th>\n",
       "      <th>neigh_1</th>\n",
       "      <th>neigh_2</th>\n",
       "      <th>neigh_3</th>\n",
       "      <th>neigh_4</th>\n",
       "    </tr>\n",
       "  </thead>\n",
       "  <tbody>\n",
       "    <tr>\n",
       "      <th>0</th>\n",
       "      <td>22</td>\n",
       "      <td>18</td>\n",
       "      <td>9</td>\n",
       "      <td>23</td>\n",
       "      <td>13</td>\n",
       "      <td>0</td>\n",
       "      <td>0</td>\n",
       "      <td>1</td>\n",
       "      <td>1</td>\n",
       "      <td>2</td>\n",
       "      <td>...</td>\n",
       "      <td>40</td>\n",
       "      <td>8</td>\n",
       "      <td>0</td>\n",
       "      <td>0</td>\n",
       "      <td>0</td>\n",
       "      <td>4</td>\n",
       "      <td>21</td>\n",
       "      <td>6</td>\n",
       "      <td>13</td>\n",
       "      <td>9</td>\n",
       "    </tr>\n",
       "    <tr>\n",
       "      <th>1</th>\n",
       "      <td>18</td>\n",
       "      <td>9</td>\n",
       "      <td>23</td>\n",
       "      <td>13</td>\n",
       "      <td>23</td>\n",
       "      <td>0</td>\n",
       "      <td>1</td>\n",
       "      <td>1</td>\n",
       "      <td>2</td>\n",
       "      <td>2</td>\n",
       "      <td>...</td>\n",
       "      <td>40</td>\n",
       "      <td>8</td>\n",
       "      <td>0</td>\n",
       "      <td>0</td>\n",
       "      <td>0</td>\n",
       "      <td>4</td>\n",
       "      <td>11</td>\n",
       "      <td>23</td>\n",
       "      <td>24</td>\n",
       "      <td>40</td>\n",
       "    </tr>\n",
       "    <tr>\n",
       "      <th>2</th>\n",
       "      <td>9</td>\n",
       "      <td>23</td>\n",
       "      <td>13</td>\n",
       "      <td>23</td>\n",
       "      <td>13</td>\n",
       "      <td>1</td>\n",
       "      <td>1</td>\n",
       "      <td>2</td>\n",
       "      <td>2</td>\n",
       "      <td>2</td>\n",
       "      <td>...</td>\n",
       "      <td>40</td>\n",
       "      <td>8</td>\n",
       "      <td>0</td>\n",
       "      <td>0</td>\n",
       "      <td>0</td>\n",
       "      <td>4</td>\n",
       "      <td>21</td>\n",
       "      <td>6</td>\n",
       "      <td>13</td>\n",
       "      <td>9</td>\n",
       "    </tr>\n",
       "    <tr>\n",
       "      <th>3</th>\n",
       "      <td>23</td>\n",
       "      <td>13</td>\n",
       "      <td>23</td>\n",
       "      <td>13</td>\n",
       "      <td>40</td>\n",
       "      <td>1</td>\n",
       "      <td>2</td>\n",
       "      <td>2</td>\n",
       "      <td>2</td>\n",
       "      <td>2</td>\n",
       "      <td>...</td>\n",
       "      <td>40</td>\n",
       "      <td>8</td>\n",
       "      <td>0</td>\n",
       "      <td>0</td>\n",
       "      <td>0</td>\n",
       "      <td>4</td>\n",
       "      <td>11</td>\n",
       "      <td>23</td>\n",
       "      <td>24</td>\n",
       "      <td>40</td>\n",
       "    </tr>\n",
       "    <tr>\n",
       "      <th>4</th>\n",
       "      <td>13</td>\n",
       "      <td>23</td>\n",
       "      <td>13</td>\n",
       "      <td>40</td>\n",
       "      <td>6</td>\n",
       "      <td>2</td>\n",
       "      <td>2</td>\n",
       "      <td>2</td>\n",
       "      <td>2</td>\n",
       "      <td>48</td>\n",
       "      <td>...</td>\n",
       "      <td>40</td>\n",
       "      <td>8</td>\n",
       "      <td>0</td>\n",
       "      <td>0</td>\n",
       "      <td>0</td>\n",
       "      <td>4</td>\n",
       "      <td>25</td>\n",
       "      <td>6</td>\n",
       "      <td>24</td>\n",
       "      <td>23</td>\n",
       "    </tr>\n",
       "    <tr>\n",
       "      <th>...</th>\n",
       "      <td>...</td>\n",
       "      <td>...</td>\n",
       "      <td>...</td>\n",
       "      <td>...</td>\n",
       "      <td>...</td>\n",
       "      <td>...</td>\n",
       "      <td>...</td>\n",
       "      <td>...</td>\n",
       "      <td>...</td>\n",
       "      <td>...</td>\n",
       "      <td>...</td>\n",
       "      <td>...</td>\n",
       "      <td>...</td>\n",
       "      <td>...</td>\n",
       "      <td>...</td>\n",
       "      <td>...</td>\n",
       "      <td>...</td>\n",
       "      <td>...</td>\n",
       "      <td>...</td>\n",
       "      <td>...</td>\n",
       "      <td>...</td>\n",
       "    </tr>\n",
       "    <tr>\n",
       "      <th>73573</th>\n",
       "      <td>34</td>\n",
       "      <td>26</td>\n",
       "      <td>24</td>\n",
       "      <td>27</td>\n",
       "      <td>24</td>\n",
       "      <td>0</td>\n",
       "      <td>0</td>\n",
       "      <td>1</td>\n",
       "      <td>1</td>\n",
       "      <td>1</td>\n",
       "      <td>...</td>\n",
       "      <td>24</td>\n",
       "      <td>6</td>\n",
       "      <td>0</td>\n",
       "      <td>0</td>\n",
       "      <td>0</td>\n",
       "      <td>4</td>\n",
       "      <td>24</td>\n",
       "      <td>7</td>\n",
       "      <td>26</td>\n",
       "      <td>38</td>\n",
       "    </tr>\n",
       "    <tr>\n",
       "      <th>73574</th>\n",
       "      <td>26</td>\n",
       "      <td>24</td>\n",
       "      <td>27</td>\n",
       "      <td>24</td>\n",
       "      <td>26</td>\n",
       "      <td>0</td>\n",
       "      <td>1</td>\n",
       "      <td>1</td>\n",
       "      <td>1</td>\n",
       "      <td>48</td>\n",
       "      <td>...</td>\n",
       "      <td>24</td>\n",
       "      <td>6</td>\n",
       "      <td>0</td>\n",
       "      <td>0</td>\n",
       "      <td>0</td>\n",
       "      <td>4</td>\n",
       "      <td>40</td>\n",
       "      <td>13</td>\n",
       "      <td>27</td>\n",
       "      <td>26</td>\n",
       "    </tr>\n",
       "    <tr>\n",
       "      <th>73575</th>\n",
       "      <td>24</td>\n",
       "      <td>27</td>\n",
       "      <td>24</td>\n",
       "      <td>26</td>\n",
       "      <td>11</td>\n",
       "      <td>1</td>\n",
       "      <td>1</td>\n",
       "      <td>1</td>\n",
       "      <td>48</td>\n",
       "      <td>48</td>\n",
       "      <td>...</td>\n",
       "      <td>24</td>\n",
       "      <td>6</td>\n",
       "      <td>0</td>\n",
       "      <td>0</td>\n",
       "      <td>0</td>\n",
       "      <td>4</td>\n",
       "      <td>11</td>\n",
       "      <td>38</td>\n",
       "      <td>34</td>\n",
       "      <td>24</td>\n",
       "    </tr>\n",
       "    <tr>\n",
       "      <th>73576</th>\n",
       "      <td>27</td>\n",
       "      <td>24</td>\n",
       "      <td>26</td>\n",
       "      <td>11</td>\n",
       "      <td>34</td>\n",
       "      <td>1</td>\n",
       "      <td>1</td>\n",
       "      <td>48</td>\n",
       "      <td>48</td>\n",
       "      <td>49</td>\n",
       "      <td>...</td>\n",
       "      <td>24</td>\n",
       "      <td>6</td>\n",
       "      <td>0</td>\n",
       "      <td>0</td>\n",
       "      <td>0</td>\n",
       "      <td>4</td>\n",
       "      <td>13</td>\n",
       "      <td>26</td>\n",
       "      <td>34</td>\n",
       "      <td>10</td>\n",
       "    </tr>\n",
       "    <tr>\n",
       "      <th>73577</th>\n",
       "      <td>24</td>\n",
       "      <td>26</td>\n",
       "      <td>11</td>\n",
       "      <td>34</td>\n",
       "      <td>33</td>\n",
       "      <td>1</td>\n",
       "      <td>48</td>\n",
       "      <td>48</td>\n",
       "      <td>49</td>\n",
       "      <td>49</td>\n",
       "      <td>...</td>\n",
       "      <td>24</td>\n",
       "      <td>6</td>\n",
       "      <td>0</td>\n",
       "      <td>0</td>\n",
       "      <td>0</td>\n",
       "      <td>4</td>\n",
       "      <td>35</td>\n",
       "      <td>33</td>\n",
       "      <td>10</td>\n",
       "      <td>38</td>\n",
       "    </tr>\n",
       "  </tbody>\n",
       "</table>\n",
       "<p>73578 rows × 22 columns</p>\n",
       "</div>"
      ],
      "text/plain": [
       "       gnode_1  gnode_2  gnode_3  gnode_4  target_gnb  time_1  time_2  time_3  \\\n",
       "0           22       18        9       23          13       0       0       1   \n",
       "1           18        9       23       13          23       0       1       1   \n",
       "2            9       23       13       23          13       1       1       2   \n",
       "3           23       13       23       13          40       1       2       2   \n",
       "4           13       23       13       40           6       2       2       2   \n",
       "...        ...      ...      ...      ...         ...     ...     ...     ...   \n",
       "73573       34       26       24       27          24       0       0       1   \n",
       "73574       26       24       27       24          26       0       1       1   \n",
       "73575       24       27       24       26          11       1       1       1   \n",
       "73576       27       24       26       11          34       1       1      48   \n",
       "73577       24       26       11       34          33       1      48      48   \n",
       "\n",
       "       time_4  target_time  ...  home_gnb  early_morn  morning  noon  evening  \\\n",
       "0           1            2  ...        40           8        0     0        0   \n",
       "1           2            2  ...        40           8        0     0        0   \n",
       "2           2            2  ...        40           8        0     0        0   \n",
       "3           2            2  ...        40           8        0     0        0   \n",
       "4           2           48  ...        40           8        0     0        0   \n",
       "...       ...          ...  ...       ...         ...      ...   ...      ...   \n",
       "73573       1            1  ...        24           6        0     0        0   \n",
       "73574       1           48  ...        24           6        0     0        0   \n",
       "73575      48           48  ...        24           6        0     0        0   \n",
       "73576      48           49  ...        24           6        0     0        0   \n",
       "73577      49           49  ...        24           6        0     0        0   \n",
       "\n",
       "       night  neigh_1  neigh_2  neigh_3  neigh_4  \n",
       "0          4       21        6       13        9  \n",
       "1          4       11       23       24       40  \n",
       "2          4       21        6       13        9  \n",
       "3          4       11       23       24       40  \n",
       "4          4       25        6       24       23  \n",
       "...      ...      ...      ...      ...      ...  \n",
       "73573      4       24        7       26       38  \n",
       "73574      4       40       13       27       26  \n",
       "73575      4       11       38       34       24  \n",
       "73576      4       13       26       34       10  \n",
       "73577      4       35       33       10       38  \n",
       "\n",
       "[73578 rows x 22 columns]"
      ]
     },
     "execution_count": 42,
     "metadata": {},
     "output_type": "execute_result"
    }
   ],
   "source": [
    "X_train.dropna(inplace=True)\n",
    "X_train"
   ]
  },
  {
   "cell_type": "code",
   "execution_count": 43,
   "metadata": {},
   "outputs": [
    {
     "data": {
      "text/html": [
       "<div>\n",
       "<style scoped>\n",
       "    .dataframe tbody tr th:only-of-type {\n",
       "        vertical-align: middle;\n",
       "    }\n",
       "\n",
       "    .dataframe tbody tr th {\n",
       "        vertical-align: top;\n",
       "    }\n",
       "\n",
       "    .dataframe thead th {\n",
       "        text-align: right;\n",
       "    }\n",
       "</style>\n",
       "<table border=\"1\" class=\"dataframe\">\n",
       "  <thead>\n",
       "    <tr style=\"text-align: right;\">\n",
       "      <th></th>\n",
       "      <th>target_gnb</th>\n",
       "      <th>target_trans_slot</th>\n",
       "    </tr>\n",
       "  </thead>\n",
       "  <tbody>\n",
       "    <tr>\n",
       "      <th>0</th>\n",
       "      <td>13</td>\n",
       "      <td>15</td>\n",
       "    </tr>\n",
       "    <tr>\n",
       "      <th>1</th>\n",
       "      <td>23</td>\n",
       "      <td>1</td>\n",
       "    </tr>\n",
       "    <tr>\n",
       "      <th>2</th>\n",
       "      <td>13</td>\n",
       "      <td>1</td>\n",
       "    </tr>\n",
       "    <tr>\n",
       "      <th>3</th>\n",
       "      <td>40</td>\n",
       "      <td>1</td>\n",
       "    </tr>\n",
       "    <tr>\n",
       "      <th>4</th>\n",
       "      <td>6</td>\n",
       "      <td>100</td>\n",
       "    </tr>\n",
       "    <tr>\n",
       "      <th>...</th>\n",
       "      <td>...</td>\n",
       "      <td>...</td>\n",
       "    </tr>\n",
       "    <tr>\n",
       "      <th>73573</th>\n",
       "      <td>24</td>\n",
       "      <td>1</td>\n",
       "    </tr>\n",
       "    <tr>\n",
       "      <th>73574</th>\n",
       "      <td>26</td>\n",
       "      <td>100</td>\n",
       "    </tr>\n",
       "    <tr>\n",
       "      <th>73575</th>\n",
       "      <td>11</td>\n",
       "      <td>5</td>\n",
       "    </tr>\n",
       "    <tr>\n",
       "      <th>73576</th>\n",
       "      <td>34</td>\n",
       "      <td>15</td>\n",
       "    </tr>\n",
       "    <tr>\n",
       "      <th>73577</th>\n",
       "      <td>33</td>\n",
       "      <td>15</td>\n",
       "    </tr>\n",
       "  </tbody>\n",
       "</table>\n",
       "<p>73578 rows × 2 columns</p>\n",
       "</div>"
      ],
      "text/plain": [
       "       target_gnb  target_trans_slot\n",
       "0              13                 15\n",
       "1              23                  1\n",
       "2              13                  1\n",
       "3              40                  1\n",
       "4               6                100\n",
       "...           ...                ...\n",
       "73573          24                  1\n",
       "73574          26                100\n",
       "73575          11                  5\n",
       "73576          34                 15\n",
       "73577          33                 15\n",
       "\n",
       "[73578 rows x 2 columns]"
      ]
     },
     "execution_count": 43,
     "metadata": {},
     "output_type": "execute_result"
    }
   ],
   "source": [
    "y_train = X_train[['target_gnb', 'target_trans_slot']]\n",
    "y_train"
   ]
  },
  {
   "cell_type": "code",
   "execution_count": 44,
   "metadata": {},
   "outputs": [
    {
     "data": {
      "text/html": [
       "<div>\n",
       "<style scoped>\n",
       "    .dataframe tbody tr th:only-of-type {\n",
       "        vertical-align: middle;\n",
       "    }\n",
       "\n",
       "    .dataframe tbody tr th {\n",
       "        vertical-align: top;\n",
       "    }\n",
       "\n",
       "    .dataframe thead th {\n",
       "        text-align: right;\n",
       "    }\n",
       "</style>\n",
       "<table border=\"1\" class=\"dataframe\">\n",
       "  <thead>\n",
       "    <tr style=\"text-align: right;\">\n",
       "      <th></th>\n",
       "      <th>gnode_1</th>\n",
       "      <th>gnode_2</th>\n",
       "      <th>gnode_3</th>\n",
       "      <th>gnode_4</th>\n",
       "      <th>time_1</th>\n",
       "      <th>time_2</th>\n",
       "      <th>time_3</th>\n",
       "      <th>time_4</th>\n",
       "      <th>home_gnb</th>\n",
       "      <th>early_morn</th>\n",
       "      <th>morning</th>\n",
       "      <th>noon</th>\n",
       "      <th>evening</th>\n",
       "      <th>night</th>\n",
       "      <th>neigh_1</th>\n",
       "      <th>neigh_2</th>\n",
       "      <th>neigh_3</th>\n",
       "      <th>neigh_4</th>\n",
       "    </tr>\n",
       "  </thead>\n",
       "  <tbody>\n",
       "    <tr>\n",
       "      <th>0</th>\n",
       "      <td>22</td>\n",
       "      <td>18</td>\n",
       "      <td>9</td>\n",
       "      <td>23</td>\n",
       "      <td>0</td>\n",
       "      <td>0</td>\n",
       "      <td>1</td>\n",
       "      <td>1</td>\n",
       "      <td>40</td>\n",
       "      <td>8</td>\n",
       "      <td>0</td>\n",
       "      <td>0</td>\n",
       "      <td>0</td>\n",
       "      <td>4</td>\n",
       "      <td>21</td>\n",
       "      <td>6</td>\n",
       "      <td>13</td>\n",
       "      <td>9</td>\n",
       "    </tr>\n",
       "    <tr>\n",
       "      <th>1</th>\n",
       "      <td>18</td>\n",
       "      <td>9</td>\n",
       "      <td>23</td>\n",
       "      <td>13</td>\n",
       "      <td>0</td>\n",
       "      <td>1</td>\n",
       "      <td>1</td>\n",
       "      <td>2</td>\n",
       "      <td>40</td>\n",
       "      <td>8</td>\n",
       "      <td>0</td>\n",
       "      <td>0</td>\n",
       "      <td>0</td>\n",
       "      <td>4</td>\n",
       "      <td>11</td>\n",
       "      <td>23</td>\n",
       "      <td>24</td>\n",
       "      <td>40</td>\n",
       "    </tr>\n",
       "    <tr>\n",
       "      <th>2</th>\n",
       "      <td>9</td>\n",
       "      <td>23</td>\n",
       "      <td>13</td>\n",
       "      <td>23</td>\n",
       "      <td>1</td>\n",
       "      <td>1</td>\n",
       "      <td>2</td>\n",
       "      <td>2</td>\n",
       "      <td>40</td>\n",
       "      <td>8</td>\n",
       "      <td>0</td>\n",
       "      <td>0</td>\n",
       "      <td>0</td>\n",
       "      <td>4</td>\n",
       "      <td>21</td>\n",
       "      <td>6</td>\n",
       "      <td>13</td>\n",
       "      <td>9</td>\n",
       "    </tr>\n",
       "    <tr>\n",
       "      <th>3</th>\n",
       "      <td>23</td>\n",
       "      <td>13</td>\n",
       "      <td>23</td>\n",
       "      <td>13</td>\n",
       "      <td>1</td>\n",
       "      <td>2</td>\n",
       "      <td>2</td>\n",
       "      <td>2</td>\n",
       "      <td>40</td>\n",
       "      <td>8</td>\n",
       "      <td>0</td>\n",
       "      <td>0</td>\n",
       "      <td>0</td>\n",
       "      <td>4</td>\n",
       "      <td>11</td>\n",
       "      <td>23</td>\n",
       "      <td>24</td>\n",
       "      <td>40</td>\n",
       "    </tr>\n",
       "    <tr>\n",
       "      <th>4</th>\n",
       "      <td>13</td>\n",
       "      <td>23</td>\n",
       "      <td>13</td>\n",
       "      <td>40</td>\n",
       "      <td>2</td>\n",
       "      <td>2</td>\n",
       "      <td>2</td>\n",
       "      <td>2</td>\n",
       "      <td>40</td>\n",
       "      <td>8</td>\n",
       "      <td>0</td>\n",
       "      <td>0</td>\n",
       "      <td>0</td>\n",
       "      <td>4</td>\n",
       "      <td>25</td>\n",
       "      <td>6</td>\n",
       "      <td>24</td>\n",
       "      <td>23</td>\n",
       "    </tr>\n",
       "    <tr>\n",
       "      <th>...</th>\n",
       "      <td>...</td>\n",
       "      <td>...</td>\n",
       "      <td>...</td>\n",
       "      <td>...</td>\n",
       "      <td>...</td>\n",
       "      <td>...</td>\n",
       "      <td>...</td>\n",
       "      <td>...</td>\n",
       "      <td>...</td>\n",
       "      <td>...</td>\n",
       "      <td>...</td>\n",
       "      <td>...</td>\n",
       "      <td>...</td>\n",
       "      <td>...</td>\n",
       "      <td>...</td>\n",
       "      <td>...</td>\n",
       "      <td>...</td>\n",
       "      <td>...</td>\n",
       "    </tr>\n",
       "    <tr>\n",
       "      <th>73573</th>\n",
       "      <td>34</td>\n",
       "      <td>26</td>\n",
       "      <td>24</td>\n",
       "      <td>27</td>\n",
       "      <td>0</td>\n",
       "      <td>0</td>\n",
       "      <td>1</td>\n",
       "      <td>1</td>\n",
       "      <td>24</td>\n",
       "      <td>6</td>\n",
       "      <td>0</td>\n",
       "      <td>0</td>\n",
       "      <td>0</td>\n",
       "      <td>4</td>\n",
       "      <td>24</td>\n",
       "      <td>7</td>\n",
       "      <td>26</td>\n",
       "      <td>38</td>\n",
       "    </tr>\n",
       "    <tr>\n",
       "      <th>73574</th>\n",
       "      <td>26</td>\n",
       "      <td>24</td>\n",
       "      <td>27</td>\n",
       "      <td>24</td>\n",
       "      <td>0</td>\n",
       "      <td>1</td>\n",
       "      <td>1</td>\n",
       "      <td>1</td>\n",
       "      <td>24</td>\n",
       "      <td>6</td>\n",
       "      <td>0</td>\n",
       "      <td>0</td>\n",
       "      <td>0</td>\n",
       "      <td>4</td>\n",
       "      <td>40</td>\n",
       "      <td>13</td>\n",
       "      <td>27</td>\n",
       "      <td>26</td>\n",
       "    </tr>\n",
       "    <tr>\n",
       "      <th>73575</th>\n",
       "      <td>24</td>\n",
       "      <td>27</td>\n",
       "      <td>24</td>\n",
       "      <td>26</td>\n",
       "      <td>1</td>\n",
       "      <td>1</td>\n",
       "      <td>1</td>\n",
       "      <td>48</td>\n",
       "      <td>24</td>\n",
       "      <td>6</td>\n",
       "      <td>0</td>\n",
       "      <td>0</td>\n",
       "      <td>0</td>\n",
       "      <td>4</td>\n",
       "      <td>11</td>\n",
       "      <td>38</td>\n",
       "      <td>34</td>\n",
       "      <td>24</td>\n",
       "    </tr>\n",
       "    <tr>\n",
       "      <th>73576</th>\n",
       "      <td>27</td>\n",
       "      <td>24</td>\n",
       "      <td>26</td>\n",
       "      <td>11</td>\n",
       "      <td>1</td>\n",
       "      <td>1</td>\n",
       "      <td>48</td>\n",
       "      <td>48</td>\n",
       "      <td>24</td>\n",
       "      <td>6</td>\n",
       "      <td>0</td>\n",
       "      <td>0</td>\n",
       "      <td>0</td>\n",
       "      <td>4</td>\n",
       "      <td>13</td>\n",
       "      <td>26</td>\n",
       "      <td>34</td>\n",
       "      <td>10</td>\n",
       "    </tr>\n",
       "    <tr>\n",
       "      <th>73577</th>\n",
       "      <td>24</td>\n",
       "      <td>26</td>\n",
       "      <td>11</td>\n",
       "      <td>34</td>\n",
       "      <td>1</td>\n",
       "      <td>48</td>\n",
       "      <td>48</td>\n",
       "      <td>49</td>\n",
       "      <td>24</td>\n",
       "      <td>6</td>\n",
       "      <td>0</td>\n",
       "      <td>0</td>\n",
       "      <td>0</td>\n",
       "      <td>4</td>\n",
       "      <td>35</td>\n",
       "      <td>33</td>\n",
       "      <td>10</td>\n",
       "      <td>38</td>\n",
       "    </tr>\n",
       "  </tbody>\n",
       "</table>\n",
       "<p>73578 rows × 18 columns</p>\n",
       "</div>"
      ],
      "text/plain": [
       "       gnode_1  gnode_2  gnode_3  gnode_4  time_1  time_2  time_3  time_4  \\\n",
       "0           22       18        9       23       0       0       1       1   \n",
       "1           18        9       23       13       0       1       1       2   \n",
       "2            9       23       13       23       1       1       2       2   \n",
       "3           23       13       23       13       1       2       2       2   \n",
       "4           13       23       13       40       2       2       2       2   \n",
       "...        ...      ...      ...      ...     ...     ...     ...     ...   \n",
       "73573       34       26       24       27       0       0       1       1   \n",
       "73574       26       24       27       24       0       1       1       1   \n",
       "73575       24       27       24       26       1       1       1      48   \n",
       "73576       27       24       26       11       1       1      48      48   \n",
       "73577       24       26       11       34       1      48      48      49   \n",
       "\n",
       "       home_gnb  early_morn  morning  noon  evening  night  neigh_1  neigh_2  \\\n",
       "0            40           8        0     0        0      4       21        6   \n",
       "1            40           8        0     0        0      4       11       23   \n",
       "2            40           8        0     0        0      4       21        6   \n",
       "3            40           8        0     0        0      4       11       23   \n",
       "4            40           8        0     0        0      4       25        6   \n",
       "...         ...         ...      ...   ...      ...    ...      ...      ...   \n",
       "73573        24           6        0     0        0      4       24        7   \n",
       "73574        24           6        0     0        0      4       40       13   \n",
       "73575        24           6        0     0        0      4       11       38   \n",
       "73576        24           6        0     0        0      4       13       26   \n",
       "73577        24           6        0     0        0      4       35       33   \n",
       "\n",
       "       neigh_3  neigh_4  \n",
       "0           13        9  \n",
       "1           24       40  \n",
       "2           13        9  \n",
       "3           24       40  \n",
       "4           24       23  \n",
       "...        ...      ...  \n",
       "73573       26       38  \n",
       "73574       27       26  \n",
       "73575       34       24  \n",
       "73576       34       10  \n",
       "73577       10       38  \n",
       "\n",
       "[73578 rows x 18 columns]"
      ]
     },
     "execution_count": 44,
     "metadata": {},
     "output_type": "execute_result"
    }
   ],
   "source": [
    "to_drop_cols = ['target_gnb',\n",
    "                'target_trans_slot',\n",
    "                'target_time',\n",
    "                'imsi'\n",
    "               ]\n",
    "X_train.drop(columns=to_drop_cols, axis=1, inplace=True)\n",
    "X_train"
   ]
  },
  {
   "cell_type": "markdown",
   "metadata": {},
   "source": [
    "## Model training"
   ]
  },
  {
   "cell_type": "code",
   "execution_count": 45,
   "metadata": {},
   "outputs": [
    {
     "data": {
      "text/plain": [
       "RandomForestClassifier(max_depth=15, min_samples_leaf=2, n_estimators=30,\n",
       "                       oob_score=True, random_state=44)"
      ]
     },
     "execution_count": 45,
     "metadata": {},
     "output_type": "execute_result"
    }
   ],
   "source": [
    "from sklearn.ensemble import RandomForestClassifier\n",
    "\n",
    "model = RandomForestClassifier(n_estimators=30,\n",
    "                               min_samples_leaf=2,\n",
    "                               min_samples_split=2,\n",
    "                               max_depth=15,\n",
    "                               oob_score=True,\n",
    "                               random_state=44)\n",
    "model.fit(X_train, y_train)"
   ]
  },
  {
   "cell_type": "markdown",
   "metadata": {},
   "source": [
    "## Model evaluation"
   ]
  },
  {
   "cell_type": "code",
   "execution_count": 46,
   "metadata": {},
   "outputs": [
    {
     "name": "stdout",
     "output_type": "stream",
     "text": [
      "Feature: gnode_1, Score: 0.07254075327332639\n",
      "Feature: gnode_2, Score: 0.09050280322294371\n",
      "Feature: gnode_3, Score: 0.11034432581365818\n",
      "Feature: gnode_4, Score: 0.05714938297237697\n",
      "Feature: time_1, Score: 0.03284803335557773\n",
      "Feature: time_2, Score: 0.03494693809051474\n",
      "Feature: time_3, Score: 0.033441120392945216\n",
      "Feature: time_4, Score: 0.06562714525170643\n",
      "Feature: home_gnb, Score: 0.11805091693251794\n",
      "Feature: early_morn, Score: 0.07253369073497583\n",
      "Feature: morning, Score: 0.0\n",
      "Feature: noon, Score: 0.0\n",
      "Feature: evening, Score: 0.0\n",
      "Feature: night, Score: 0.06281711518272301\n",
      "Feature: neigh_1, Score: 0.06299620898086429\n",
      "Feature: neigh_2, Score: 0.06503621298956652\n",
      "Feature: neigh_3, Score: 0.059446468955005216\n",
      "Feature: neigh_4, Score: 0.0617188838512979\n"
     ]
    }
   ],
   "source": [
    "importance = model.feature_importances_\n",
    "for i, v in zip(X_train.columns, importance):\n",
    "    print(f'Feature: {i}, Score: {v}')"
   ]
  },
  {
   "cell_type": "code",
   "execution_count": 47,
   "metadata": {},
   "outputs": [
    {
     "data": {
      "text/plain": [
       "<AxesSubplot:>"
      ]
     },
     "execution_count": 47,
     "metadata": {},
     "output_type": "execute_result"
    },
    {
     "data": {
      "image/png": "[encoded data removed]",
      "text/plain": [
       "<Figure size 720x360 with 1 Axes>"
      ]
     },
     "metadata": {
      "needs_background": "light"
     },
     "output_type": "display_data"
    }
   ],
   "source": [
    "pd.Series(index=X_train.columns, data=importance).plot.bar()"
   ]
  },
  {
   "cell_type": "code",
   "execution_count": 50,
   "metadata": {},
   "outputs": [],
   "source": [
    "import numpy as np\n",
    "\n",
    "def compute_accuracy(y, y_pred):\n",
    "    y_pred = pd.DataFrame(y_pred, columns=['target_gnb', 'target_trans_slot'])\n",
    "    gnb_pred_acc = (sum(y.target_gnb.values == y_pred.target_gnb.values) / len(y)) * 100\n",
    "    timeslot_pred_acc = (sum(y.target_trans_slot.values == y_pred.target_trans_slot.values) / len(y)) * 100\n",
    "    pred_accuracy = (sum((y.target_gnb.values == y_pred.target_gnb.values) &\n",
    "                            (y.target_trans_slot.values == y_pred.target_trans_slot.values)) / len(y)) * 100\n",
    "    return {\n",
    "        \"predictionAccuracy\": pred_accuracy,\n",
    "        \"predictionTimeSlotAccuracy\": timeslot_pred_acc,\n",
    "        \"predictionGnodeBAccuracy\": gnb_pred_acc\n",
    "    }\n",
    "\n",
    "def topk_accuracy(actual_labels, pred_gnb, pred_time, k=3):\n",
    "    actual_labels_size = len(actual_labels['target_gnb'])\n",
    "    predictions_size = len(pred_gnb)\n",
    "    if actual_labels_size != predictions_size:\n",
    "        raise ValueError(\"actual and predicted should be of same size\")\n",
    "    results = np.zeros(actual_labels_size)\n",
    "    for i in range(actual_labels_size):\n",
    "        if ((actual_labels['target_gnb'][i] in set(pred_gnb[i][:k])) & (actual_labels['target_trans_slot'][i] in set(pred_time[i][:k]))):\n",
    "            results[i] = 1\n",
    "    result = results.sum()/actual_labels_size\n",
    "    print(f\"predictionAccuracy with first {k} results: {result}\")\n",
    "    return result"
   ]
  },
  {
   "cell_type": "code",
   "execution_count": 51,
   "metadata": {},
   "outputs": [],
   "source": [
    "y_pred = model.predict(X_train)"
   ]
  },
  {
   "cell_type": "code",
   "execution_count": 52,
   "metadata": {},
   "outputs": [
    {
     "data": {
      "text/plain": [
       "{'predictionAccuracy': 69.45962108238875,\n",
       " 'predictionTimeSlotAccuracy': 82.74076490255239,\n",
       " 'predictionGnodeBAccuracy': 81.11391992171573}"
      ]
     },
     "execution_count": 52,
     "metadata": {},
     "output_type": "execute_result"
    }
   ],
   "source": [
    "accuracy = compute_accuracy(y_train, y_pred)\n",
    "accuracy"
   ]
  },
  {
   "cell_type": "code",
   "execution_count": 53,
   "metadata": {},
   "outputs": [],
   "source": [
    "probs = model.predict_proba(X_train)"
   ]
  },
  {
   "cell_type": "code",
   "execution_count": 54,
   "metadata": {},
   "outputs": [],
   "source": [
    "gnb_preds = model.classes_[0][np.argsort(-probs[0])]\n",
    "ts_preds = model.classes_[1][np.argsort(-probs[1])]"
   ]
  },
  {
   "cell_type": "code",
   "execution_count": 55,
   "metadata": {},
   "outputs": [
    {
     "name": "stdout",
     "output_type": "stream",
     "text": [
      "predictionAccuracy with first 1 results: 0.6945962108238876\n",
      "predictionAccuracy with first 3 results: 0.9867623474408111\n",
      "predictionAccuracy with first 5 results: 0.9997145885998532\n"
     ]
    },
    {
     "data": {
      "text/plain": [
       "0.9997145885998532"
      ]
     },
     "execution_count": 55,
     "metadata": {},
     "output_type": "execute_result"
    }
   ],
   "source": [
    "topk_accuracy(y_train.reset_index(), gnb_preds, ts_preds, k=1)\n",
    "topk_accuracy(y_train.reset_index(), gnb_preds, ts_preds, k=3)\n",
    "topk_accuracy(y_train.reset_index(), gnb_preds, ts_preds, k=5)"
   ]
  },
  {
   "cell_type": "markdown",
   "metadata": {},
   "source": [
    "The following class implements the very same data processing procedure used above. It's been compacted for convenience"
   ]
  },
  {
   "cell_type": "code",
   "execution_count": 56,
   "metadata": {},
   "outputs": [],
   "source": [
    "class PreprocessData:\n",
    "    def __init__(self, training_df,gnb_neigh):\n",
    "        self.training_df = training_df\n",
    "        self.gnb_neigh = gnb_neigh\n",
    "    \n",
    "    @staticmethod\n",
    "    def window_sequence(seq, window_size=5):\n",
    "        windows = []\n",
    "        seq_len = len(seq)\n",
    "        if seq_len < window_size:\n",
    "            print(seq)\n",
    "            padding_len = window_size - seq_len\n",
    "        for i in range(len(seq) - window_size + 1):\n",
    "            window = []\n",
    "            for j in range(i, i + window_size):\n",
    "                window.append(seq[j])\n",
    "            windows.append(window)\n",
    "        return windows\n",
    "\n",
    "    def compute_home_gnb(self, grouped_df):\n",
    "        ue_home_df = grouped_df.groupby(['imsi', 'currentEnb'])['stay_time'].sum().reset_index()\n",
    "        home_gnb = ue_home_df.loc[ue_home_df.groupby(['imsi'])['stay_time'].idxmax()][['imsi', 'currentEnb']]\n",
    "        home_gnb.columns = ['imsi', 'home_gnb']\n",
    "        return home_gnb\n",
    "\n",
    "    def compute_ue_context_df(self,grouped_df):\n",
    "        grouped_df['time_of_day'] = pd.cut(grouped_df['timeSlot'], \n",
    "                                           bins=5,\n",
    "                                           labels=['early_morn', 'morning', 'noon', 'evening', 'night'])\n",
    "        ue_df = grouped_df.groupby(['imsi', 'time_of_day'])['currentEnb'].count().reset_index()\n",
    "        ue_ctxt_df = pd.pivot_table(ue_df, index='imsi', columns='time_of_day', values='currentEnb', fill_value=0)\n",
    "        return ue_ctxt_df\n",
    "\n",
    "    def compute_transition_df(self, grouped_df):\n",
    "        seq_df = grouped_df.groupby(['imsi'])['currentEnb', 'timeSlot','transition_slot'].agg(\n",
    "            lambda x: list(x)).reset_index()\n",
    "        seq_df['enode_seq'] = seq_df['currentEnb'].apply(self.window_sequence).values\n",
    "        seq_df['time_seq'] = seq_df['timeSlot'].apply(self.window_sequence).values\n",
    "        seq_df['trans_seq'] = seq_df['transition_slot'].apply(self.window_sequence).values\n",
    "        enode_seq_list = [sequence for sequences in seq_df['enode_seq'] for sequence in sequences]\n",
    "        time_seq_list = [sequence for sequences in seq_df['time_seq'] for sequence in sequences]\n",
    "        trans_seq_list = [sequence for sequences in seq_df['trans_seq'] for sequence in sequences]\n",
    "        seq_df['seq_len'] = seq_df['enode_seq'].apply(lambda x: len(x))\n",
    "        imsi_list = list()\n",
    "        for a, b in zip(seq_df['imsi'], seq_df['seq_len']):\n",
    "            imsi_list.extend([a] * b)\n",
    "        enode_df = pd.DataFrame(enode_seq_list, columns=['enode_1', 'enode_2', 'enode_3', 'enode_4', 'target_gnb'])\n",
    "        time_df = pd.DataFrame(time_seq_list, columns=['time_1', 'time_2', 'time_3', 'time_4', 'target_time'])\n",
    "        trans_df = pd.DataFrame(trans_seq_list, columns=['trans_1', 'trans_2', 'trans_3', 'trans_4', 'target_trans_slot'])\n",
    "        df = pd.concat([enode_df, time_df], axis=1)\n",
    "        #df = pd.concat([enode_df, time_df], axis=1)\n",
    "        df['target_trans_slot'] = trans_df['target_trans_slot']\n",
    "        df['imsi'] = imsi_list\n",
    "        return df\n",
    "\n",
    "    def preprocess_data(self):\n",
    "        grouped_df = self.training_df.set_index(['imsi', 'timestamp']).sort_index().reset_index()\n",
    "        grouped_df['next_timstamp'] = grouped_df.groupby(['imsi'])['timestamp'].shift(-1)\n",
    "        grouped_df['prev_timstamp'] = grouped_df.groupby(['imsi'])['timestamp'].shift(1)\n",
    "        grouped_df['stay_time'] = grouped_df['next_timstamp'] - grouped_df['timestamp']\n",
    "        grouped_df['transit_time'] = grouped_df['timestamp'] - grouped_df['prev_timstamp']\n",
    "        grouped_df['transition_slot'] = pd.cut(grouped_df['transit_time'], [0, 1, 5, 15, 30, 60, 3000],\n",
    "                                               labels=[1, 5, 15, 30, 60, 100])\n",
    "\n",
    "        home_gnb = self.compute_home_gnb(grouped_df)\n",
    "        ue_ctxt_df = self.compute_ue_context_df(grouped_df)\n",
    "\n",
    "        df = self.compute_transition_df(grouped_df)\n",
    "\n",
    "        df = df.merge(home_gnb, on='imsi').merge(ue_ctxt_df, on='imsi')\n",
    "        df = df.merge(self.gnb_neigh, left_on='enode_4', right_on='gnodeB', how='left')\n",
    "        del df['gnodeB']\n",
    "        df.dropna(inplace=True)\n",
    "        y_train = df[['target_gnb', 'target_trans_slot']]\n",
    "\n",
    "        to_drop_cols = ['target_gnb',\n",
    "                        'target_trans_slot',\n",
    "                        'target_time',\n",
    "                        'imsi'\n",
    "                       ]\n",
    "        print(df.shape)\n",
    "        df.drop(columns=to_drop_cols, inplace=True, axis=1)\n",
    "        \n",
    "        return df, y_train"
   ]
  },
  {
   "cell_type": "code",
   "execution_count": 57,
   "metadata": {},
   "outputs": [
    {
     "name": "stdout",
     "output_type": "stream",
     "text": [
      "(65150, 22)\n"
     ]
    }
   ],
   "source": [
    "day_2 = df.loc[(df['timestamp']>=1440) & (df['timestamp']<2880)]\n",
    "\n",
    "preprocess_df = PreprocessData(day_2,gnb_neigh)\n",
    "X_test, y_test = preprocess_df.preprocess_data()\n",
    "y_pred = model.predict(X_test)"
   ]
  },
  {
   "cell_type": "code",
   "execution_count": 58,
   "metadata": {},
   "outputs": [],
   "source": [
    "probs = model.predict_proba(X_test)\n",
    "gnb_preds = model.classes_[0][np.argsort(-probs[0])]\n",
    "ts_preds = model.classes_[1][np.argsort(-probs[1])]"
   ]
  },
  {
   "cell_type": "code",
   "execution_count": 59,
   "metadata": {},
   "outputs": [
    {
     "name": "stdout",
     "output_type": "stream",
     "text": [
      "predictionAccuracy with first 1 results: 0.6652954719877207\n",
      "predictionAccuracy with first 3 results: 0.9810437452033768\n",
      "predictionAccuracy with first 5 results: 0.9993706830391405\n"
     ]
    },
    {
     "data": {
      "text/plain": [
       "0.9993706830391405"
      ]
     },
     "execution_count": 59,
     "metadata": {},
     "output_type": "execute_result"
    }
   ],
   "source": [
    "topk_accuracy(y_test.reset_index(), gnb_preds, ts_preds, k=1)\n",
    "topk_accuracy(y_test.reset_index(), gnb_preds, ts_preds, k=3)\n",
    "topk_accuracy(y_test.reset_index(), gnb_preds, ts_preds, k=5)"
   ]
  },
  {
   "cell_type": "code",
   "execution_count": 60,
   "metadata": {},
   "outputs": [
    {
     "data": {
      "text/plain": [
       "{'predictionAccuracy': 66.52954719877206,\n",
       " 'predictionTimeSlotAccuracy': 81.45817344589409,\n",
       " 'predictionGnodeBAccuracy': 78.92095165003838}"
      ]
     },
     "execution_count": 60,
     "metadata": {},
     "output_type": "execute_result"
    }
   ],
   "source": [
    "accuracy = compute_accuracy(y_test, y_pred)\n",
    "accuracy"
   ]
  },
  {
   "cell_type": "markdown",
   "metadata": {},
   "source": [
    "## Model sharing\n",
    "### Pickle file"
   ]
  },
  {
   "cell_type": "code",
   "execution_count": 61,
   "metadata": {},
   "outputs": [
    {
     "data": {
      "text/plain": [
       "['mobility_model.pkl']"
      ]
     },
     "execution_count": 61,
     "metadata": {},
     "output_type": "execute_result"
    }
   ],
   "source": [
    "import joblib\n",
    "\n",
    "joblib.dump(model, 'mobility_model.pkl')"
   ]
  },
  {
   "cell_type": "markdown",
   "metadata": {},
   "source": [
    "### ONNX\n",
    "\n",
    "Open Neural Network Exchange (ONNX) is an open standard format for AI models, born initially with focus on deep learning, but eventually extended to traditional ML. It defines an extensible computation graph model, as well as definitions of built-in operators and standard data types so that it is possible to represent any arbitrary model.\n",
    "\n",
    "It is possible for most of the popular ML frameworks to export trained models as ONNX models. For scikit-learn: [sklearn-onnx](http://onnx.ai/sklearn-onnx/). The converted ONNX model can be run by means of the [ONNX Runtime](https://www.onnxruntime.ai/) (thus enabling the creation of microservices)."
   ]
  },
  {
   "cell_type": "code",
   "execution_count": 62,
   "metadata": {},
   "outputs": [],
   "source": [
    "from skl2onnx import convert_sklearn\n",
    "from skl2onnx.common.data_types import Int64TensorType"
   ]
  },
  {
   "cell_type": "code",
   "execution_count": 63,
   "metadata": {},
   "outputs": [],
   "source": [
    "X_train_onnx = X_train.to_numpy()\n",
    "X_test_onnx = X_test.to_numpy()\n",
    "y_train_onnx = y_train.to_numpy()\n",
    "y_test_onnx = y_test.to_numpy()"
   ]
  },
  {
   "cell_type": "code",
   "execution_count": 64,
   "metadata": {},
   "outputs": [],
   "source": [
    "initial_type = [('input', Int64TensorType([None, 18]))]\n",
    "onx = convert_sklearn(model, initial_types=initial_type, options={type(model): {'zipmap': False}})"
   ]
  },
  {
   "cell_type": "code",
   "execution_count": 65,
   "metadata": {},
   "outputs": [],
   "source": [
    "with open(\"mobility_model.onnx\", \"wb\") as f:\n",
    "    f.write(onx.SerializeToString())"
   ]
  },
  {
   "cell_type": "code",
   "execution_count": 66,
   "metadata": {},
   "outputs": [],
   "source": [
    "import onnxruntime as rt"
   ]
  },
  {
   "cell_type": "code",
   "execution_count": 67,
   "metadata": {},
   "outputs": [],
   "source": [
    "sess = rt.InferenceSession(\"mobility_model.onnx\")\n",
    "input_name = sess.get_inputs()[0].name\n",
    "label_name = sess.get_outputs()[0].name"
   ]
  },
  {
   "cell_type": "code",
   "execution_count": 68,
   "metadata": {},
   "outputs": [
    {
     "data": {
      "text/plain": [
       "[array([[13, 15]], dtype=int64)]"
      ]
     },
     "execution_count": 68,
     "metadata": {},
     "output_type": "execute_result"
    }
   ],
   "source": [
    "sess.run([label_name], {input_name: X_test_onnx[:1]})"
   ]
  },
  {
   "cell_type": "code",
   "execution_count": 69,
   "metadata": {},
   "outputs": [
    {
     "data": {
      "text/plain": [
       "array([[13, 15]])"
      ]
     },
     "execution_count": 69,
     "metadata": {},
     "output_type": "execute_result"
    }
   ],
   "source": [
    "model.predict(X_test_onnx[:1])"
   ]
  },
  {
   "cell_type": "code",
   "execution_count": null,
   "metadata": {},
   "outputs": [],
   "source": []
  }
 ],
 "metadata": {
  "kernelspec": {
   "display_name": "Python 3",
   "language": "python",
   "name": "python3"
  },
  "language_info": {
   "codemirror_mode": {
    "name": "ipython",
    "version": 3
   },
   "file_extension": ".py",
   "mimetype": "text/x-python",
   "name": "python",
   "nbconvert_exporter": "python",
   "pygments_lexer": "ipython3",
   "version": "3.7.10"
  }
 },
 "nbformat": 4,
 "nbformat_minor": 4
}
